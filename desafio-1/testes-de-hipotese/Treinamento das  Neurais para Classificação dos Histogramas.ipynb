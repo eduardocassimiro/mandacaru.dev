{
 "cells": [
  {
   "cell_type": "markdown",
   "id": "655be722",
   "metadata": {},
   "source": [
    "<center>\n",
    "    <h1> \n",
    "        Treinamento das Redes Neurais para Classificação dos Histogramas\n",
    "    </h1>\n",
    "</center>\n",
    "    <div style=\"text-align: right;\"><h3>\n",
    "        Carlos Eduardo Cassimiro da Silva\n",
    "    </h3></div>\n",
    "<br>\n",
    "<p>Após desenvolver e executar o pipeline do pré-processamento dos dados, podemos iniciar o treinamento e validação preliminar dos modelos de classificação. </p>\n",
    "<p>Existem diferentes classificações que podemos tentar realizar dependendo da abstração escolhida para separar os documentos:  <br>\n",
    "1. Separar os documentos entre os abertos e os \"normais\" (frente e verso), e depois classificá-los em suas respectivas categorias; <br>\n",
    "1.1. Categorizar os documentos no seu respectivo tipo (CNH, RG, CPF); <br>\n",
    "1.2. Categorizar os documentos no seu respectivo tipo e também segmentantá-los (CNH Frente, CNH Verso, RG Frente e etc); <br>\n",
    "2. Categorizar os documentos no seu respectivo tipo (CNH, RG, CPF), sem distinguir entre abertos e \"normais\".\n",
    "</p> \n",
    "<p>Além disso, podemos utilizar como entrada dos modelos diferentes atributos: <br>\n",
    "1. A junção dos histogramas dos canais de cores do padrão RGB; <br>\n",
    "2. A junção dos histogramas dos canais de cores do padrão RGB + os 100 valores do histograma da matriz(hue) do padrão HSV; <br>\n",
    "3. Os 100 valores do histograma da matriz(hue) do padrão HSV.\n",
    "</p>\n",
    "<p>Nesse notebook iremos treinar e verificar a efetividade no desenvolvimento dos modelos para os diferentes arranjos entre os inputs e os targets, e eleger os modelos mais promissores para a validação final. A avaliação dos testes estará compilada nas conclusões</p>\n",
    "\n",
    "<h4>Desafio #1: Classificação de documentos (RG, CNH e CPF) </h4>\n",
    "\n",
    " - Contextualização: Inúmeras áreas de diferentes organizações (usualmente como parte de um processo de um backoffice) recepcionam documentos dos seus clientes para formação de kits de documentação. Tais kits são, por exemplo, compartilhados com outros stakeholders das empresas. Conforme pode-se pressupor, um desafio nesse cenário refere-se ao fato de que o cliente pode enviar documentos, porém sem necessariamente indicar a qual tipo se o documento se refere (RG, CNH ou CPF, por exemplo). Dessa forma, ao invés de demandar um trabalho manual para essa leitura e classificação dos documentos, podemos construir um modelo de aprendizado que tenha capacidade de ler um conjunto de documentos (em .jpg, por exemplo) e, subsequentemente, realizar a classificação em três tipos distintos: RG, CNH e CPF.\n",
    " - Dataset: Para esse desafio utilizaremos um dataset público de RG, CNH e CPF (incluindo as imagens). Este repositório apresenta o conjunto de dados denominado Brazilian Identity Document Dataset (BID Dataset), o primeiro conjunto de dados público de documentos de identificação brasileiros. <br>\n",
    "Link do dataset: https://github.com/ricardobnjunior/Brazilian-Identity-Document-Dataset\n",
    "\n",
    "<h4>Roteiro</h4>\n",
    "<b>Módulos utilizados</b> <br>\n",
    "<b>1. Teste 1: Sem as amostras grandes e com 6 labels</b><br>\n",
    "1.1 Modelo 1 (1 camada oculta densa)<br>\n",
    "1.2 Modelo 2 (2 camadas ocultas densas)<br>\n",
    "<b>2. Teste 2: Sem as amostras grandes e com 3 labels</b><br>\n",
    "2.1 Modelo 1 (1 camada oculta densa)<br>\n",
    "2.2 Modelo 2 (2 camadas ocultas densas)<br>\n",
    "2.3 Modelo 3 (2 camadas ocultas: 1 densa, 1 BatchNormalization) <br>\n",
    "<b>3. Teste 3: apenas os 100 valores do HSV, 3 classes e sem as amostras grandes</b><br>\n",
    "3.1 Modelo 3 (2 camadas ocultas: 1 densa, 1 BatchNormalization)<br>\n",
    "3.2 Modelo 3* (2 camadas ocultas: 1 densa, 1 BatchNormalization)<br>\n",
    "<b>4. Teste 4 com os documentos grandes</b><br>\n",
    "4.1 Modelo 3 (3 camadas ocultas: 1 densa, 1 BatchNormalization, 1 densa)<br>\n",
    "4.2 Modelo 2 (2 camadas ocultas densas)<br>\n",
    "<b>5. Teste 5: 100 valores do hsv, com amostras grandes e 3 classes</b><br>\n",
    "5.1 Modelo 3 (2 camadas ocultas: 1 densa, 1 BatchNormalization)<br>\n",
    "5.2 Modelo 3* (2 camadas ocultas: 1 densa, 1 BatchNormalization)<br>\n",
    "<b>6. Teste 6 apenas com o RGB</b><br>\n",
    "6.1 Modelo 3 (2 camadas ocultas: 1 densa, 1 BatchNormalization)<br>\n",
    "6.2 Modelo 4 (3 camadas ocultas: 1 densa, 1 BatchNormalization, 1 densa) <br>\n",
    "<b>7. Conclusão</b>"
   ]
  },
  {
   "cell_type": "code",
   "execution_count": 1,
   "id": "35e5e9e5",
   "metadata": {},
   "outputs": [],
   "source": [
    "import keras.backend as K\n",
    "from tensorflow.keras.utils import to_categorical\n",
    "from keras.models import Sequential\n",
    "from keras.layers import Dense, Conv1D, MaxPooling1D, Flatten, Dropout\n",
    "import numpy as np\n",
    "import json\n",
    "from sklearn.model_selection import train_test_split\n",
    "from copy import deepcopy"
   ]
  },
  {
   "cell_type": "code",
   "execution_count": 4,
   "id": "b2b04ba9",
   "metadata": {},
   "outputs": [],
   "source": [
    "# Abrindo o conjunto de dados (transformados)\n",
    "with open('imagens_originais/desafio1_data.json') as file: \n",
    "    data = json.load(file)"
   ]
  },
  {
   "cell_type": "markdown",
   "id": "0178eb74",
   "metadata": {},
   "source": [
    "# 1. Teste 1: Sem as amostras grandes e com 6 labels"
   ]
  },
  {
   "cell_type": "code",
   "execution_count": null,
   "id": "e0adb71a",
   "metadata": {},
   "outputs": [],
   "source": [
    "# Copiando o conjunto de teinamento e os targets\n",
    "X_op2 = deepcopy(data['op2'])\n",
    "y_7 = deepcopy(data['y7'])"
   ]
  },
  {
   "cell_type": "code",
   "execution_count": 6,
   "id": "f6fcc3b7",
   "metadata": {},
   "outputs": [
    {
     "data": {
      "text/plain": [
       "28800"
      ]
     },
     "execution_count": 6,
     "metadata": {},
     "output_type": "execute_result"
    }
   ],
   "source": [
    "len(y_7)"
   ]
  },
  {
   "cell_type": "code",
   "execution_count": 7,
   "id": "1b3184bf",
   "metadata": {},
   "outputs": [],
   "source": [
    "# Retirando os documentos abertos (grandes)\n",
    "y_7_mod = deepcopy(y_7[3600:])\n",
    "X_op2_mod = deepcopy(X_op2[3600:])"
   ]
  },
  {
   "cell_type": "code",
   "execution_count": 8,
   "id": "35a023b4",
   "metadata": {},
   "outputs": [
    {
     "data": {
      "text/plain": [
       "25200"
      ]
     },
     "execution_count": 8,
     "metadata": {},
     "output_type": "execute_result"
    }
   ],
   "source": [
    "len(y_7_mod)"
   ]
  },
  {
   "cell_type": "code",
   "execution_count": 9,
   "id": "aa2b82c9",
   "metadata": {},
   "outputs": [],
   "source": [
    "# Terminando de remover os documentos abertos\n",
    "del y_7_mod[14400:18000]\n",
    "del X_op2_mod[14400:18000]"
   ]
  },
  {
   "cell_type": "code",
   "execution_count": 10,
   "id": "e102575b",
   "metadata": {},
   "outputs": [],
   "source": [
    "# Verificando se ainda há documentos abertos (grandes)\n",
    "for i in range(len(y_7_mod)) :\n",
    "    if y_7_mod[i] == 'GRANDE':\n",
    "        print(i)"
   ]
  },
  {
   "cell_type": "code",
   "execution_count": 11,
   "id": "80c421de",
   "metadata": {},
   "outputs": [
    {
     "data": {
      "text/plain": [
       "21600"
      ]
     },
     "execution_count": 11,
     "metadata": {},
     "output_type": "execute_result"
    }
   ],
   "source": [
    "len(y_7_mod)"
   ]
  },
  {
   "cell_type": "code",
   "execution_count": 12,
   "id": "67f4b972",
   "metadata": {},
   "outputs": [],
   "source": [
    "# Tranformando em numpy.arrays\n",
    "y_7_mod = np.array(y_7_mod)\n",
    "X_op2_mod = np.array(X_op2_mod)"
   ]
  },
  {
   "cell_type": "code",
   "execution_count": 13,
   "id": "43f6eced",
   "metadata": {},
   "outputs": [
    {
     "data": {
      "text/plain": [
       "array(['CNH_Frente', 'CNH_Verso', 'CPF_Frente', 'CPF_Verso', 'RG_Frente',\n",
       "       'RG_Verso'], dtype='<U10')"
      ]
     },
     "execution_count": 13,
     "metadata": {},
     "output_type": "execute_result"
    }
   ],
   "source": [
    "# Verificando as labels dos targets\n",
    "np.unique(y_7_mod)"
   ]
  },
  {
   "cell_type": "code",
   "execution_count": 14,
   "id": "6e34bace",
   "metadata": {},
   "outputs": [],
   "source": [
    "# Transformando as labels dos targets em números\n",
    "labels = {}\n",
    "for i,j in zip(np.unique(y_7_mod), range(len(np.unique(y_7_mod)))):\n",
    "    labels[i] = j"
   ]
  },
  {
   "cell_type": "code",
   "execution_count": 15,
   "id": "e44b7a01",
   "metadata": {
    "scrolled": true
   },
   "outputs": [
    {
     "data": {
      "text/plain": [
       "{'CNH_Frente': 0,\n",
       " 'CNH_Verso': 1,\n",
       " 'CPF_Frente': 2,\n",
       " 'CPF_Verso': 3,\n",
       " 'RG_Frente': 4,\n",
       " 'RG_Verso': 5}"
      ]
     },
     "execution_count": 15,
     "metadata": {},
     "output_type": "execute_result"
    }
   ],
   "source": [
    "labels"
   ]
  },
  {
   "cell_type": "code",
   "execution_count": 16,
   "id": "f5b5757e",
   "metadata": {},
   "outputs": [
    {
     "data": {
      "text/plain": [
       "(850,)"
      ]
     },
     "execution_count": 16,
     "metadata": {},
     "output_type": "execute_result"
    }
   ],
   "source": [
    "X_op2_mod[1].shape"
   ]
  },
  {
   "cell_type": "code",
   "execution_count": 17,
   "id": "29530ac9",
   "metadata": {},
   "outputs": [],
   "source": [
    "# Copiando os targets em formato de número para outra lista\n",
    "y_7_label = deepcopy(y_7_mod)\n",
    "for i in range(len(y_7_mod)):\n",
    "    y_7_label[i] = labels[y_7_mod[i]]"
   ]
  },
  {
   "cell_type": "code",
   "execution_count": 18,
   "id": "a4ebb326",
   "metadata": {},
   "outputs": [],
   "source": [
    "# Codificando os targets para o padrão que o keras aceita sem precisar mudar parâmetros\n",
    "y_7_label = to_categorical(y_7_label,len(np.unique(y_7_label)))"
   ]
  },
  {
   "cell_type": "code",
   "execution_count": 19,
   "id": "002b4c45",
   "metadata": {},
   "outputs": [
    {
     "data": {
      "text/plain": [
       "array([[1., 0., 0., 0., 0., 0.],\n",
       "       [1., 0., 0., 0., 0., 0.],\n",
       "       [1., 0., 0., 0., 0., 0.],\n",
       "       ...,\n",
       "       [0., 0., 0., 0., 0., 1.],\n",
       "       [0., 0., 0., 0., 0., 1.],\n",
       "       [0., 0., 0., 0., 0., 1.]], dtype=float32)"
      ]
     },
     "execution_count": 19,
     "metadata": {},
     "output_type": "execute_result"
    }
   ],
   "source": [
    "# Verificando a codificação\n",
    "y_7_label"
   ]
  },
  {
   "cell_type": "code",
   "execution_count": 20,
   "id": "f54498b1",
   "metadata": {},
   "outputs": [],
   "source": [
    "# Dividindo o conjunto de dados em treinamento e teste\n",
    "X_train, X_test, y_train, y_test = train_test_split(X_op2_mod, y_7_label, test_size=0.3)"
   ]
  },
  {
   "cell_type": "code",
   "execution_count": 21,
   "id": "0777607a",
   "metadata": {},
   "outputs": [
    {
     "data": {
      "text/plain": [
       "(850,)"
      ]
     },
     "execution_count": 21,
     "metadata": {},
     "output_type": "execute_result"
    }
   ],
   "source": [
    "X_op2_mod[0].shape"
   ]
  },
  {
   "cell_type": "markdown",
   "id": "764e4304",
   "metadata": {},
   "source": [
    "## 1.1 Modelo 1 (1 camada oculta densa)"
   ]
  },
  {
   "cell_type": "code",
   "execution_count": 22,
   "id": "0c4481a4",
   "metadata": {},
   "outputs": [
    {
     "name": "stdout",
     "output_type": "stream",
     "text": [
      "Model: \"sequential\"\n",
      "_________________________________________________________________\n",
      " Layer (type)                Output Shape              Param #   \n",
      "=================================================================\n",
      " dense (Dense)               (None, 50)                42550     \n",
      "                                                                 \n",
      " dropout (Dropout)           (None, 50)                0         \n",
      "                                                                 \n",
      " dense_1 (Dense)             (None, 6)                 306       \n",
      "                                                                 \n",
      "=================================================================\n",
      "Total params: 42,856\n",
      "Trainable params: 42,856\n",
      "Non-trainable params: 0\n",
      "_________________________________________________________________\n"
     ]
    }
   ],
   "source": [
    "# Criando uma rede neural\n",
    "model = Sequential() # Definindo o tipo da rede neural\n",
    "model.add(Dense(50, activation='relu', input_shape=(X_op2_mod[0].shape))) # Definindo a primeira cada oculta\n",
    "model.add(Dropout(.25)) # Definindo um dropout para retirar os atributos menos relevantes \n",
    "model.add(Dense(6, activation='softmax')) # Definindo a saída\n",
    "model.compile(optimizer=\"rmsprop\", loss=\"categorical_crossentropy\",metrics=['categorical_accuracy']) \n",
    "model.summary()"
   ]
  },
  {
   "cell_type": "code",
   "execution_count": 23,
   "id": "5489820b",
   "metadata": {
    "scrolled": false
   },
   "outputs": [
    {
     "name": "stdout",
     "output_type": "stream",
     "text": [
      "Epoch 1/20\n",
      "473/473 [==============================] - 2s 2ms/step - loss: 0.8853 - categorical_accuracy: 0.6911 - val_loss: 0.6267 - val_categorical_accuracy: 0.7894\n",
      "Epoch 2/20\n",
      "473/473 [==============================] - 1s 1ms/step - loss: 0.5825 - categorical_accuracy: 0.7974 - val_loss: 0.5149 - val_categorical_accuracy: 0.8184\n",
      "Epoch 3/20\n",
      "473/473 [==============================] - 1s 1ms/step - loss: 0.5018 - categorical_accuracy: 0.8156 - val_loss: 0.4527 - val_categorical_accuracy: 0.8307\n",
      "Epoch 4/20\n",
      "473/473 [==============================] - 1s 1ms/step - loss: 0.4612 - categorical_accuracy: 0.8276 - val_loss: 0.4350 - val_categorical_accuracy: 0.8279\n",
      "Epoch 5/20\n",
      "473/473 [==============================] - 1s 1ms/step - loss: 0.4359 - categorical_accuracy: 0.8336 - val_loss: 0.4116 - val_categorical_accuracy: 0.8455\n",
      "Epoch 6/20\n",
      "473/473 [==============================] - 1s 1ms/step - loss: 0.4181 - categorical_accuracy: 0.8401 - val_loss: 0.3943 - val_categorical_accuracy: 0.8503\n",
      "Epoch 7/20\n",
      "473/473 [==============================] - 1s 1ms/step - loss: 0.3976 - categorical_accuracy: 0.8497 - val_loss: 0.3848 - val_categorical_accuracy: 0.8539\n",
      "Epoch 8/20\n",
      "473/473 [==============================] - 1s 1ms/step - loss: 0.3871 - categorical_accuracy: 0.8497 - val_loss: 0.3800 - val_categorical_accuracy: 0.8573\n",
      "Epoch 9/20\n",
      "473/473 [==============================] - 1s 1ms/step - loss: 0.3802 - categorical_accuracy: 0.8545 - val_loss: 0.3684 - val_categorical_accuracy: 0.8573\n",
      "Epoch 10/20\n",
      "473/473 [==============================] - 1s 1ms/step - loss: 0.3784 - categorical_accuracy: 0.8550 - val_loss: 0.3599 - val_categorical_accuracy: 0.8625\n",
      "Epoch 11/20\n",
      "473/473 [==============================] - 1s 1ms/step - loss: 0.3671 - categorical_accuracy: 0.8606 - val_loss: 0.3511 - val_categorical_accuracy: 0.8644\n",
      "Epoch 12/20\n",
      "473/473 [==============================] - 1s 1ms/step - loss: 0.3598 - categorical_accuracy: 0.8626 - val_loss: 0.3553 - val_categorical_accuracy: 0.8591\n",
      "Epoch 13/20\n",
      "473/473 [==============================] - 1s 1ms/step - loss: 0.3502 - categorical_accuracy: 0.8679 - val_loss: 0.3435 - val_categorical_accuracy: 0.8679\n",
      "Epoch 14/20\n",
      "473/473 [==============================] - 1s 1ms/step - loss: 0.3471 - categorical_accuracy: 0.8683 - val_loss: 0.3341 - val_categorical_accuracy: 0.8739\n",
      "Epoch 15/20\n",
      "473/473 [==============================] - 1s 1ms/step - loss: 0.3417 - categorical_accuracy: 0.8698 - val_loss: 0.3510 - val_categorical_accuracy: 0.8673\n",
      "Epoch 16/20\n",
      "473/473 [==============================] - 1s 1ms/step - loss: 0.3363 - categorical_accuracy: 0.8733 - val_loss: 0.3330 - val_categorical_accuracy: 0.8782\n",
      "Epoch 17/20\n",
      "473/473 [==============================] - 1s 1ms/step - loss: 0.3346 - categorical_accuracy: 0.8749 - val_loss: 0.3373 - val_categorical_accuracy: 0.8725\n",
      "Epoch 18/20\n",
      "473/473 [==============================] - 1s 1ms/step - loss: 0.3312 - categorical_accuracy: 0.8769 - val_loss: 0.3311 - val_categorical_accuracy: 0.8782\n",
      "Epoch 19/20\n",
      "473/473 [==============================] - 1s 1ms/step - loss: 0.3295 - categorical_accuracy: 0.8779 - val_loss: 0.3283 - val_categorical_accuracy: 0.8798\n",
      "Epoch 20/20\n",
      "473/473 [==============================] - 1s 1ms/step - loss: 0.3207 - categorical_accuracy: 0.8800 - val_loss: 0.3250 - val_categorical_accuracy: 0.8795\n"
     ]
    },
    {
     "data": {
      "text/plain": [
       "<keras.callbacks.History at 0x214ac1f9940>"
      ]
     },
     "execution_count": 23,
     "metadata": {},
     "output_type": "execute_result"
    }
   ],
   "source": [
    "# Executando o treinamento e teste\n",
    "model.fit(X_train, y_train, validation_data=[X_test, y_test], epochs=20, batch_size=32, verbose=1)"
   ]
  },
  {
   "cell_type": "markdown",
   "id": "c7a2b210",
   "metadata": {},
   "source": [
    "## 1.2 Modelo 2 (2 camadas ocultas densas)"
   ]
  },
  {
   "cell_type": "markdown",
   "id": "98967f6e",
   "metadata": {},
   "source": [
    "Os procedimentos sequintes serão análogos aos anteiores."
   ]
  },
  {
   "cell_type": "code",
   "execution_count": 24,
   "id": "e97a9dcb",
   "metadata": {},
   "outputs": [
    {
     "name": "stdout",
     "output_type": "stream",
     "text": [
      "Model: \"sequential_1\"\n",
      "_________________________________________________________________\n",
      " Layer (type)                Output Shape              Param #   \n",
      "=================================================================\n",
      " dense_2 (Dense)             (None, 425)               361675    \n",
      "                                                                 \n",
      " dropout_1 (Dropout)         (None, 425)               0         \n",
      "                                                                 \n",
      " dense_3 (Dense)             (None, 25)                10650     \n",
      "                                                                 \n",
      " dropout_2 (Dropout)         (None, 25)                0         \n",
      "                                                                 \n",
      " dense_4 (Dense)             (None, 6)                 156       \n",
      "                                                                 \n",
      "=================================================================\n",
      "Total params: 372,481\n",
      "Trainable params: 372,481\n",
      "Non-trainable params: 0\n",
      "_________________________________________________________________\n"
     ]
    }
   ],
   "source": [
    "model = Sequential()\n",
    "model.add(Dense(425, activation='relu', input_shape=(X_op2_mod[0].shape)))\n",
    "model.add(Dropout(.25))\n",
    "model.add(Dense(25, activation='relu'))\n",
    "model.add(Dropout(.25))\n",
    "model.add(Dense(6, activation='softmax'))\n",
    "model.compile(optimizer=\"rmsprop\", loss=\"categorical_crossentropy\",metrics=['categorical_accuracy'])\n",
    "model.summary()"
   ]
  },
  {
   "cell_type": "code",
   "execution_count": 25,
   "id": "6308c017",
   "metadata": {
    "scrolled": false
   },
   "outputs": [
    {
     "name": "stdout",
     "output_type": "stream",
     "text": [
      "Epoch 1/20\n",
      "473/473 [==============================] - 3s 6ms/step - loss: 0.8022 - categorical_accuracy: 0.7049 - val_loss: 0.4792 - val_categorical_accuracy: 0.8194\n",
      "Epoch 2/20\n",
      "473/473 [==============================] - 3s 6ms/step - loss: 0.5065 - categorical_accuracy: 0.8095 - val_loss: 0.4263 - val_categorical_accuracy: 0.8427\n",
      "Epoch 3/20\n",
      "473/473 [==============================] - 3s 5ms/step - loss: 0.4372 - categorical_accuracy: 0.8317 - val_loss: 0.3813 - val_categorical_accuracy: 0.8540\n",
      "Epoch 4/20\n",
      "473/473 [==============================] - 3s 6ms/step - loss: 0.4032 - categorical_accuracy: 0.8475 - val_loss: 0.3656 - val_categorical_accuracy: 0.8594\n",
      "Epoch 5/20\n",
      "473/473 [==============================] - 3s 6ms/step - loss: 0.3823 - categorical_accuracy: 0.8555 - val_loss: 0.3644 - val_categorical_accuracy: 0.8670\n",
      "Epoch 6/20\n",
      "473/473 [==============================] - 3s 6ms/step - loss: 0.3593 - categorical_accuracy: 0.8633 - val_loss: 0.3346 - val_categorical_accuracy: 0.8809\n",
      "Epoch 7/20\n",
      "473/473 [==============================] - 3s 6ms/step - loss: 0.3484 - categorical_accuracy: 0.8673 - val_loss: 0.3389 - val_categorical_accuracy: 0.8784\n",
      "Epoch 8/20\n",
      "473/473 [==============================] - 3s 6ms/step - loss: 0.3405 - categorical_accuracy: 0.8749 - val_loss: 0.3306 - val_categorical_accuracy: 0.8816\n",
      "Epoch 9/20\n",
      "473/473 [==============================] - 3s 6ms/step - loss: 0.3202 - categorical_accuracy: 0.8821 - val_loss: 0.3177 - val_categorical_accuracy: 0.8833\n",
      "Epoch 10/20\n",
      "473/473 [==============================] - 3s 6ms/step - loss: 0.3226 - categorical_accuracy: 0.8830 - val_loss: 0.3185 - val_categorical_accuracy: 0.8860\n",
      "Epoch 11/20\n",
      "473/473 [==============================] - 3s 6ms/step - loss: 0.3167 - categorical_accuracy: 0.8850 - val_loss: 0.3278 - val_categorical_accuracy: 0.8852\n",
      "Epoch 12/20\n",
      "473/473 [==============================] - 3s 6ms/step - loss: 0.3121 - categorical_accuracy: 0.8875 - val_loss: 0.3320 - val_categorical_accuracy: 0.8870\n",
      "Epoch 13/20\n",
      "473/473 [==============================] - 3s 6ms/step - loss: 0.3116 - categorical_accuracy: 0.8862 - val_loss: 0.3058 - val_categorical_accuracy: 0.8884\n",
      "Epoch 14/20\n",
      "473/473 [==============================] - 3s 6ms/step - loss: 0.3016 - categorical_accuracy: 0.8915 - val_loss: 0.3029 - val_categorical_accuracy: 0.8991\n",
      "Epoch 15/20\n",
      "473/473 [==============================] - 3s 6ms/step - loss: 0.3001 - categorical_accuracy: 0.8921 - val_loss: 0.3033 - val_categorical_accuracy: 0.8948\n",
      "Epoch 16/20\n",
      "473/473 [==============================] - 3s 6ms/step - loss: 0.2992 - categorical_accuracy: 0.8948 - val_loss: 0.3161 - val_categorical_accuracy: 0.8972\n",
      "Epoch 17/20\n",
      "473/473 [==============================] - 3s 6ms/step - loss: 0.2988 - categorical_accuracy: 0.8956 - val_loss: 0.2981 - val_categorical_accuracy: 0.8978\n",
      "Epoch 18/20\n",
      "473/473 [==============================] - 3s 6ms/step - loss: 0.2910 - categorical_accuracy: 0.8978 - val_loss: 0.2984 - val_categorical_accuracy: 0.9000\n",
      "Epoch 19/20\n",
      "473/473 [==============================] - 3s 6ms/step - loss: 0.2829 - categorical_accuracy: 0.8993 - val_loss: 0.2989 - val_categorical_accuracy: 0.9076\n",
      "Epoch 20/20\n",
      "473/473 [==============================] - 3s 6ms/step - loss: 0.2815 - categorical_accuracy: 0.8995 - val_loss: 0.2945 - val_categorical_accuracy: 0.9026\n"
     ]
    },
    {
     "data": {
      "text/plain": [
       "<keras.callbacks.History at 0x215174f8e20>"
      ]
     },
     "execution_count": 25,
     "metadata": {},
     "output_type": "execute_result"
    }
   ],
   "source": [
    "model.fit(X_train, y_train, validation_data=[X_test, y_test], epochs=20, batch_size=32, verbose=1)"
   ]
  },
  {
   "cell_type": "markdown",
   "id": "c6dd6b97",
   "metadata": {},
   "source": [
    "# 2. Teste 2: Sem as amostras grandes e com 3 labels"
   ]
  },
  {
   "cell_type": "code",
   "execution_count": 26,
   "id": "1050f39b",
   "metadata": {
    "scrolled": true
   },
   "outputs": [],
   "source": [
    "labels_3 = {'CNH_Frente': 0,\n",
    "            'CNH_Verso': 0,\n",
    "            'CPF_Frente': 1,\n",
    "            'CPF_Verso': 1,\n",
    "            'RG_Frente': 2,\n",
    "            'RG_Verso': 2}"
   ]
  },
  {
   "cell_type": "code",
   "execution_count": 27,
   "id": "1f0466aa",
   "metadata": {},
   "outputs": [],
   "source": [
    "y_7_label3 = deepcopy(y_7_mod)\n",
    "for i in range(len(y_7_mod)):\n",
    "    y_7_label3[i] = labels_3[y_7_mod[i]]"
   ]
  },
  {
   "cell_type": "code",
   "execution_count": 28,
   "id": "3316f819",
   "metadata": {},
   "outputs": [],
   "source": [
    "y_7_label3 = to_categorical(y_7_label3,len(np.unique(y_7_label3)))"
   ]
  },
  {
   "cell_type": "code",
   "execution_count": 29,
   "id": "0d1122a8",
   "metadata": {},
   "outputs": [
    {
     "data": {
      "text/plain": [
       "array([[1., 0., 0., 0., 0., 0.],\n",
       "       [1., 0., 0., 0., 0., 0.],\n",
       "       [1., 0., 0., 0., 0., 0.],\n",
       "       ...,\n",
       "       [0., 0., 0., 0., 0., 1.],\n",
       "       [0., 0., 0., 0., 0., 1.],\n",
       "       [0., 0., 0., 0., 0., 1.]], dtype=float32)"
      ]
     },
     "execution_count": 29,
     "metadata": {},
     "output_type": "execute_result"
    }
   ],
   "source": [
    "y_7_label"
   ]
  },
  {
   "cell_type": "code",
   "execution_count": 30,
   "id": "fb35106f",
   "metadata": {},
   "outputs": [],
   "source": [
    "X_train2, X_test2, y_train2, y_test2 = train_test_split(X_op2_mod, y_7_label3, test_size=0.3)"
   ]
  },
  {
   "cell_type": "markdown",
   "id": "472401aa",
   "metadata": {},
   "source": [
    "## 2.1 Modelo 1 (1 camada oculta densa)"
   ]
  },
  {
   "cell_type": "code",
   "execution_count": 31,
   "id": "48289dd0",
   "metadata": {},
   "outputs": [
    {
     "name": "stdout",
     "output_type": "stream",
     "text": [
      "Model: \"sequential_2\"\n",
      "_________________________________________________________________\n",
      " Layer (type)                Output Shape              Param #   \n",
      "=================================================================\n",
      " dense_5 (Dense)             (None, 50)                42550     \n",
      "                                                                 \n",
      " dropout_3 (Dropout)         (None, 50)                0         \n",
      "                                                                 \n",
      " dense_6 (Dense)             (None, 3)                 153       \n",
      "                                                                 \n",
      "=================================================================\n",
      "Total params: 42,703\n",
      "Trainable params: 42,703\n",
      "Non-trainable params: 0\n",
      "_________________________________________________________________\n"
     ]
    }
   ],
   "source": [
    "model = Sequential()\n",
    "model.add(Dense(50, activation='relu', input_shape=(X_op2_mod[0].shape)))\n",
    "model.add(Dropout(.25))\n",
    "model.add(Dense(3, activation='softmax'))\n",
    "model.compile(optimizer=\"rmsprop\", loss=\"categorical_crossentropy\",metrics=['categorical_accuracy'])\n",
    "model.summary()"
   ]
  },
  {
   "cell_type": "code",
   "execution_count": 32,
   "id": "f062188e",
   "metadata": {
    "scrolled": false
   },
   "outputs": [
    {
     "name": "stdout",
     "output_type": "stream",
     "text": [
      "Epoch 1/20\n",
      "473/473 [==============================] - 1s 1ms/step - loss: 0.3268 - categorical_accuracy: 0.9014 - val_loss: 0.1908 - val_categorical_accuracy: 0.9403\n",
      "Epoch 2/20\n",
      "473/473 [==============================] - 1s 1ms/step - loss: 0.1770 - categorical_accuracy: 0.9478 - val_loss: 0.1503 - val_categorical_accuracy: 0.9560\n",
      "Epoch 3/20\n",
      "473/473 [==============================] - 1s 1ms/step - loss: 0.1507 - categorical_accuracy: 0.9534 - val_loss: 0.1209 - val_categorical_accuracy: 0.9636\n",
      "Epoch 4/20\n",
      "473/473 [==============================] - 1s 1ms/step - loss: 0.1326 - categorical_accuracy: 0.9606 - val_loss: 0.1200 - val_categorical_accuracy: 0.9619\n",
      "Epoch 5/20\n",
      "473/473 [==============================] - 1s 1ms/step - loss: 0.1217 - categorical_accuracy: 0.9634 - val_loss: 0.1042 - val_categorical_accuracy: 0.9687\n",
      "Epoch 6/20\n",
      "473/473 [==============================] - 1s 1ms/step - loss: 0.1166 - categorical_accuracy: 0.9660 - val_loss: 0.1034 - val_categorical_accuracy: 0.9659\n",
      "Epoch 7/20\n",
      "473/473 [==============================] - 1s 1ms/step - loss: 0.1108 - categorical_accuracy: 0.9663 - val_loss: 0.1007 - val_categorical_accuracy: 0.9699\n",
      "Epoch 8/20\n",
      "473/473 [==============================] - 1s 1ms/step - loss: 0.1034 - categorical_accuracy: 0.9693 - val_loss: 0.0958 - val_categorical_accuracy: 0.9682\n",
      "Epoch 9/20\n",
      "473/473 [==============================] - 1s 1ms/step - loss: 0.0989 - categorical_accuracy: 0.9704 - val_loss: 0.0975 - val_categorical_accuracy: 0.9711\n",
      "Epoch 10/20\n",
      "473/473 [==============================] - 1s 1ms/step - loss: 0.0965 - categorical_accuracy: 0.9707 - val_loss: 0.0926 - val_categorical_accuracy: 0.9741\n",
      "Epoch 11/20\n",
      "473/473 [==============================] - 1s 1ms/step - loss: 0.0971 - categorical_accuracy: 0.9726 - val_loss: 0.0855 - val_categorical_accuracy: 0.9728\n",
      "Epoch 12/20\n",
      "473/473 [==============================] - 1s 1ms/step - loss: 0.0935 - categorical_accuracy: 0.9727 - val_loss: 0.0887 - val_categorical_accuracy: 0.9715\n",
      "Epoch 13/20\n",
      "473/473 [==============================] - 1s 1ms/step - loss: 0.0914 - categorical_accuracy: 0.9722 - val_loss: 0.0906 - val_categorical_accuracy: 0.9708\n",
      "Epoch 14/20\n",
      "473/473 [==============================] - 1s 1ms/step - loss: 0.0871 - categorical_accuracy: 0.9733 - val_loss: 0.0884 - val_categorical_accuracy: 0.9744\n",
      "Epoch 15/20\n",
      "473/473 [==============================] - 1s 1ms/step - loss: 0.0866 - categorical_accuracy: 0.9753 - val_loss: 0.0875 - val_categorical_accuracy: 0.9730\n",
      "Epoch 16/20\n",
      "473/473 [==============================] - 1s 1ms/step - loss: 0.0864 - categorical_accuracy: 0.9747 - val_loss: 0.0891 - val_categorical_accuracy: 0.9738\n",
      "Epoch 17/20\n",
      "473/473 [==============================] - 1s 1ms/step - loss: 0.0866 - categorical_accuracy: 0.9751 - val_loss: 0.0830 - val_categorical_accuracy: 0.9750\n",
      "Epoch 18/20\n",
      "473/473 [==============================] - 1s 1ms/step - loss: 0.0854 - categorical_accuracy: 0.9769 - val_loss: 0.0976 - val_categorical_accuracy: 0.9738\n",
      "Epoch 19/20\n",
      "473/473 [==============================] - 1s 1ms/step - loss: 0.0826 - categorical_accuracy: 0.9752 - val_loss: 0.0871 - val_categorical_accuracy: 0.9748\n",
      "Epoch 20/20\n",
      "473/473 [==============================] - 1s 1ms/step - loss: 0.0845 - categorical_accuracy: 0.9757 - val_loss: 0.0817 - val_categorical_accuracy: 0.9759\n"
     ]
    },
    {
     "data": {
      "text/plain": [
       "<keras.callbacks.History at 0x21518c545b0>"
      ]
     },
     "execution_count": 32,
     "metadata": {},
     "output_type": "execute_result"
    }
   ],
   "source": [
    "model.fit(X_train2, y_train2, validation_data=[X_test2, y_test2], epochs=20, batch_size=32, verbose=1)"
   ]
  },
  {
   "cell_type": "markdown",
   "id": "6a024ded",
   "metadata": {},
   "source": [
    "## 2.2 Modelo 2 (2 camadas ocultas densas)"
   ]
  },
  {
   "cell_type": "code",
   "execution_count": 33,
   "id": "c4403f2c",
   "metadata": {},
   "outputs": [
    {
     "name": "stdout",
     "output_type": "stream",
     "text": [
      "Model: \"sequential_3\"\n",
      "_________________________________________________________________\n",
      " Layer (type)                Output Shape              Param #   \n",
      "=================================================================\n",
      " dense_7 (Dense)             (None, 425)               361675    \n",
      "                                                                 \n",
      " dropout_4 (Dropout)         (None, 425)               0         \n",
      "                                                                 \n",
      " dense_8 (Dense)             (None, 25)                10650     \n",
      "                                                                 \n",
      " dropout_5 (Dropout)         (None, 25)                0         \n",
      "                                                                 \n",
      " dense_9 (Dense)             (None, 3)                 78        \n",
      "                                                                 \n",
      "=================================================================\n",
      "Total params: 372,403\n",
      "Trainable params: 372,403\n",
      "Non-trainable params: 0\n",
      "_________________________________________________________________\n"
     ]
    }
   ],
   "source": [
    "model = Sequential()\n",
    "model.add(Dense(425, activation='relu', input_shape=(X_op2_mod[0].shape)))\n",
    "model.add(Dropout(.25))\n",
    "model.add(Dense(25, activation='relu'))\n",
    "model.add(Dropout(.25))\n",
    "model.add(Dense(3, activation='softmax'))\n",
    "model.compile(optimizer=\"rmsprop\", loss=\"categorical_crossentropy\",metrics=['categorical_accuracy'])\n",
    "model.summary()"
   ]
  },
  {
   "cell_type": "code",
   "execution_count": 34,
   "id": "fe41f55c",
   "metadata": {
    "scrolled": false
   },
   "outputs": [
    {
     "name": "stdout",
     "output_type": "stream",
     "text": [
      "Epoch 1/20\n",
      "473/473 [==============================] - 3s 6ms/step - loss: 0.2699 - categorical_accuracy: 0.9118 - val_loss: 0.1371 - val_categorical_accuracy: 0.9566\n",
      "Epoch 2/20\n",
      "473/473 [==============================] - 3s 6ms/step - loss: 0.1533 - categorical_accuracy: 0.9510 - val_loss: 0.1145 - val_categorical_accuracy: 0.9647\n",
      "Epoch 3/20\n",
      "473/473 [==============================] - 3s 6ms/step - loss: 0.1228 - categorical_accuracy: 0.9617 - val_loss: 0.0988 - val_categorical_accuracy: 0.9673\n",
      "Epoch 4/20\n",
      "473/473 [==============================] - 3s 6ms/step - loss: 0.1147 - categorical_accuracy: 0.9659 - val_loss: 0.1093 - val_categorical_accuracy: 0.9681\n",
      "Epoch 5/20\n",
      "473/473 [==============================] - 3s 6ms/step - loss: 0.1075 - categorical_accuracy: 0.9697 - val_loss: 0.0899 - val_categorical_accuracy: 0.9735\n",
      "Epoch 6/20\n",
      "473/473 [==============================] - 3s 6ms/step - loss: 0.1034 - categorical_accuracy: 0.9714 - val_loss: 0.0969 - val_categorical_accuracy: 0.9687\n",
      "Epoch 7/20\n",
      "473/473 [==============================] - 3s 6ms/step - loss: 0.0982 - categorical_accuracy: 0.9714 - val_loss: 0.0859 - val_categorical_accuracy: 0.9762\n",
      "Epoch 8/20\n",
      "473/473 [==============================] - 3s 6ms/step - loss: 0.0960 - categorical_accuracy: 0.9747 - val_loss: 0.0797 - val_categorical_accuracy: 0.9756\n",
      "Epoch 9/20\n",
      "473/473 [==============================] - 3s 6ms/step - loss: 0.0919 - categorical_accuracy: 0.9742 - val_loss: 0.0969 - val_categorical_accuracy: 0.9725\n",
      "Epoch 10/20\n",
      "473/473 [==============================] - 3s 6ms/step - loss: 0.0918 - categorical_accuracy: 0.9759 - val_loss: 0.0878 - val_categorical_accuracy: 0.9750\n",
      "Epoch 11/20\n",
      "473/473 [==============================] - 3s 6ms/step - loss: 0.0909 - categorical_accuracy: 0.9743 - val_loss: 0.0950 - val_categorical_accuracy: 0.9742\n",
      "Epoch 12/20\n",
      "473/473 [==============================] - 3s 6ms/step - loss: 0.0936 - categorical_accuracy: 0.9753 - val_loss: 0.0816 - val_categorical_accuracy: 0.9767\n",
      "Epoch 13/20\n",
      "473/473 [==============================] - 3s 6ms/step - loss: 0.0895 - categorical_accuracy: 0.9760 - val_loss: 0.1076 - val_categorical_accuracy: 0.9735\n",
      "Epoch 14/20\n",
      "473/473 [==============================] - 3s 6ms/step - loss: 0.0890 - categorical_accuracy: 0.9771 - val_loss: 0.0887 - val_categorical_accuracy: 0.9770\n",
      "Epoch 15/20\n",
      "473/473 [==============================] - 3s 6ms/step - loss: 0.0782 - categorical_accuracy: 0.9778 - val_loss: 0.0764 - val_categorical_accuracy: 0.9806\n",
      "Epoch 16/20\n",
      "473/473 [==============================] - 3s 6ms/step - loss: 0.0785 - categorical_accuracy: 0.9782 - val_loss: 0.0934 - val_categorical_accuracy: 0.9761\n",
      "Epoch 17/20\n",
      "473/473 [==============================] - 3s 6ms/step - loss: 0.0787 - categorical_accuracy: 0.9765 - val_loss: 0.0829 - val_categorical_accuracy: 0.9767\n",
      "Epoch 18/20\n",
      "473/473 [==============================] - 3s 6ms/step - loss: 0.0804 - categorical_accuracy: 0.9782 - val_loss: 0.0800 - val_categorical_accuracy: 0.9787\n",
      "Epoch 19/20\n",
      "473/473 [==============================] - 3s 6ms/step - loss: 0.0784 - categorical_accuracy: 0.9783 - val_loss: 0.0839 - val_categorical_accuracy: 0.9753\n",
      "Epoch 20/20\n",
      "473/473 [==============================] - 3s 6ms/step - loss: 0.0803 - categorical_accuracy: 0.9786 - val_loss: 0.0780 - val_categorical_accuracy: 0.9775\n"
     ]
    },
    {
     "data": {
      "text/plain": [
       "<keras.callbacks.History at 0x215191fd640>"
      ]
     },
     "execution_count": 34,
     "metadata": {},
     "output_type": "execute_result"
    }
   ],
   "source": [
    "model.fit(X_train2, y_train2, validation_data=[X_test2, y_test2], epochs=20, batch_size=32, verbose=1)"
   ]
  },
  {
   "cell_type": "markdown",
   "id": "e6375821",
   "metadata": {},
   "source": [
    "## 2.3 Modelo 3 (2 camadas ocultas: 1 densa, 1 BatchNormalization) "
   ]
  },
  {
   "cell_type": "code",
   "execution_count": 35,
   "id": "13fd3933",
   "metadata": {},
   "outputs": [],
   "source": [
    "from keras.layers import LSTM"
   ]
  },
  {
   "cell_type": "code",
   "execution_count": 36,
   "id": "72461d51",
   "metadata": {},
   "outputs": [],
   "source": [
    "from keras.layers import GRU"
   ]
  },
  {
   "cell_type": "code",
   "execution_count": 37,
   "id": "0d3ff393",
   "metadata": {},
   "outputs": [],
   "source": [
    "from keras.layers import BatchNormalization"
   ]
  },
  {
   "cell_type": "code",
   "execution_count": 38,
   "id": "2c2cca58",
   "metadata": {},
   "outputs": [
    {
     "name": "stdout",
     "output_type": "stream",
     "text": [
      "Model: \"sequential_4\"\n",
      "_________________________________________________________________\n",
      " Layer (type)                Output Shape              Param #   \n",
      "=================================================================\n",
      " dense_10 (Dense)            (None, 50)                42550     \n",
      "                                                                 \n",
      " batch_normalization (BatchN  (None, 50)               200       \n",
      " ormalization)                                                   \n",
      "                                                                 \n",
      " dropout_6 (Dropout)         (None, 50)                0         \n",
      "                                                                 \n",
      " dense_11 (Dense)            (None, 3)                 153       \n",
      "                                                                 \n",
      "=================================================================\n",
      "Total params: 42,903\n",
      "Trainable params: 42,803\n",
      "Non-trainable params: 100\n",
      "_________________________________________________________________\n"
     ]
    }
   ],
   "source": [
    "model = Sequential()\n",
    "model.add(Dense(50, activation='relu', input_shape=(X_op2_mod[0].shape)))\n",
    "model.add(BatchNormalization())\n",
    "model.add(Dropout(.25))\n",
    "model.add(Dense(3, activation='softmax'))\n",
    "model.compile(optimizer=\"rmsprop\", loss=\"categorical_crossentropy\",metrics=['categorical_accuracy'])\n",
    "model.summary()"
   ]
  },
  {
   "cell_type": "code",
   "execution_count": 39,
   "id": "1912624c",
   "metadata": {
    "scrolled": false
   },
   "outputs": [
    {
     "name": "stdout",
     "output_type": "stream",
     "text": [
      "Epoch 1/20\n",
      "473/473 [==============================] - 2s 1ms/step - loss: 0.2691 - categorical_accuracy: 0.9111 - val_loss: 0.1594 - val_categorical_accuracy: 0.9520\n",
      "Epoch 2/20\n",
      "473/473 [==============================] - 1s 1ms/step - loss: 0.1539 - categorical_accuracy: 0.9492 - val_loss: 0.1148 - val_categorical_accuracy: 0.9620\n",
      "Epoch 3/20\n",
      "473/473 [==============================] - 1s 1ms/step - loss: 0.1372 - categorical_accuracy: 0.9547 - val_loss: 0.0985 - val_categorical_accuracy: 0.9693\n",
      "Epoch 4/20\n",
      "473/473 [==============================] - 1s 1ms/step - loss: 0.1229 - categorical_accuracy: 0.9613 - val_loss: 0.0898 - val_categorical_accuracy: 0.9708\n",
      "Epoch 5/20\n",
      "473/473 [==============================] - 1s 1ms/step - loss: 0.1218 - categorical_accuracy: 0.9618 - val_loss: 0.0936 - val_categorical_accuracy: 0.9708\n",
      "Epoch 6/20\n",
      "473/473 [==============================] - 1s 1ms/step - loss: 0.1134 - categorical_accuracy: 0.9629 - val_loss: 0.0927 - val_categorical_accuracy: 0.9718\n",
      "Epoch 7/20\n",
      "473/473 [==============================] - 1s 1ms/step - loss: 0.1092 - categorical_accuracy: 0.9656 - val_loss: 0.0837 - val_categorical_accuracy: 0.9756\n",
      "Epoch 8/20\n",
      "473/473 [==============================] - 1s 1ms/step - loss: 0.1081 - categorical_accuracy: 0.9651 - val_loss: 0.0839 - val_categorical_accuracy: 0.9731\n",
      "Epoch 9/20\n",
      "473/473 [==============================] - 1s 2ms/step - loss: 0.1060 - categorical_accuracy: 0.9671 - val_loss: 0.0768 - val_categorical_accuracy: 0.9752\n",
      "Epoch 10/20\n",
      "473/473 [==============================] - 1s 2ms/step - loss: 0.1013 - categorical_accuracy: 0.9685 - val_loss: 0.0793 - val_categorical_accuracy: 0.9756\n",
      "Epoch 11/20\n",
      "473/473 [==============================] - 1s 2ms/step - loss: 0.0982 - categorical_accuracy: 0.9698 - val_loss: 0.0822 - val_categorical_accuracy: 0.9753\n",
      "Epoch 12/20\n",
      "473/473 [==============================] - 1s 1ms/step - loss: 0.1022 - categorical_accuracy: 0.9698 - val_loss: 0.0807 - val_categorical_accuracy: 0.9767\n",
      "Epoch 13/20\n",
      "473/473 [==============================] - 1s 1ms/step - loss: 0.1000 - categorical_accuracy: 0.9688 - val_loss: 0.0826 - val_categorical_accuracy: 0.9744\n",
      "Epoch 14/20\n",
      "473/473 [==============================] - 1s 2ms/step - loss: 0.0980 - categorical_accuracy: 0.9708 - val_loss: 0.0761 - val_categorical_accuracy: 0.9748\n",
      "Epoch 15/20\n",
      "473/473 [==============================] - 1s 1ms/step - loss: 0.0963 - categorical_accuracy: 0.9699 - val_loss: 0.0769 - val_categorical_accuracy: 0.9764\n",
      "Epoch 16/20\n",
      "473/473 [==============================] - 1s 1ms/step - loss: 0.0963 - categorical_accuracy: 0.9694 - val_loss: 0.0764 - val_categorical_accuracy: 0.9759\n",
      "Epoch 17/20\n",
      "473/473 [==============================] - 1s 1ms/step - loss: 0.0923 - categorical_accuracy: 0.9704 - val_loss: 0.0841 - val_categorical_accuracy: 0.9750\n",
      "Epoch 18/20\n",
      "473/473 [==============================] - 1s 1ms/step - loss: 0.0916 - categorical_accuracy: 0.9708 - val_loss: 0.0790 - val_categorical_accuracy: 0.9750\n",
      "Epoch 19/20\n",
      "473/473 [==============================] - 1s 1ms/step - loss: 0.0945 - categorical_accuracy: 0.9720 - val_loss: 0.0734 - val_categorical_accuracy: 0.9767\n",
      "Epoch 20/20\n",
      "473/473 [==============================] - 1s 1ms/step - loss: 0.0922 - categorical_accuracy: 0.9715 - val_loss: 0.0726 - val_categorical_accuracy: 0.9775\n"
     ]
    },
    {
     "data": {
      "text/plain": [
       "<keras.callbacks.History at 0x2151948a730>"
      ]
     },
     "execution_count": 39,
     "metadata": {},
     "output_type": "execute_result"
    }
   ],
   "source": [
    "model.fit(X_train2, y_train2, validation_data=[X_test2, y_test2], epochs=20, batch_size=32, verbose=1)"
   ]
  },
  {
   "cell_type": "markdown",
   "id": "2d74969b",
   "metadata": {},
   "source": [
    "# 3. Teste 3 : apenas os 100 valores do HSV, 3 classes e sem as amostras grandes"
   ]
  },
  {
   "cell_type": "code",
   "execution_count": 41,
   "id": "8f21b847",
   "metadata": {},
   "outputs": [],
   "source": [
    "X_op2_mod2 = deepcopy(X_op2_mod)"
   ]
  },
  {
   "cell_type": "code",
   "execution_count": 49,
   "id": "12ed51d0",
   "metadata": {
    "scrolled": false
   },
   "outputs": [],
   "source": [
    "X_op2_mod2 = []\n",
    "for i in range(len(X_op2_mod)):\n",
    "    X_op2_mod2.append(X_op2_mod[i][-100:])"
   ]
  },
  {
   "cell_type": "code",
   "execution_count": 50,
   "id": "581ab90f",
   "metadata": {},
   "outputs": [],
   "source": [
    "X_train3, X_test3, y_train3, y_test3 = train_test_split(X_op2_mod2, y_7_label3, test_size=0.3)"
   ]
  },
  {
   "cell_type": "markdown",
   "id": "4d517075",
   "metadata": {},
   "source": [
    "## 3.1 Modelo 3 (2 camadas ocultas: 1 densa, 1 BatchNormalization) "
   ]
  },
  {
   "cell_type": "code",
   "execution_count": 54,
   "id": "ae7b99d8",
   "metadata": {},
   "outputs": [
    {
     "name": "stdout",
     "output_type": "stream",
     "text": [
      "Model: \"sequential_6\"\n",
      "_________________________________________________________________\n",
      " Layer (type)                Output Shape              Param #   \n",
      "=================================================================\n",
      " dense_14 (Dense)            (None, 10)                1010      \n",
      "                                                                 \n",
      " batch_normalization_2 (Batc  (None, 10)               40        \n",
      " hNormalization)                                                 \n",
      "                                                                 \n",
      " dropout_8 (Dropout)         (None, 10)                0         \n",
      "                                                                 \n",
      " dense_15 (Dense)            (None, 3)                 33        \n",
      "                                                                 \n",
      "=================================================================\n",
      "Total params: 1,083\n",
      "Trainable params: 1,063\n",
      "Non-trainable params: 20\n",
      "_________________________________________________________________\n"
     ]
    }
   ],
   "source": [
    "model = Sequential()\n",
    "model.add(Dense(10, activation='relu', input_shape=(X_op2_mod2[0].shape)))\n",
    "model.add(BatchNormalization())\n",
    "model.add(Dropout(.25))\n",
    "model.add(Dense(3, activation='softmax'))\n",
    "model.compile(optimizer=\"rmsprop\", loss=\"categorical_crossentropy\",metrics=['categorical_accuracy'])\n",
    "model.summary()"
   ]
  },
  {
   "cell_type": "code",
   "execution_count": 59,
   "id": "e5fa3f9a",
   "metadata": {
    "scrolled": false
   },
   "outputs": [
    {
     "name": "stdout",
     "output_type": "stream",
     "text": [
      "Epoch 1/20\n",
      "473/473 [==============================] - 2s 2ms/step - loss: 0.4049 - categorical_accuracy: 0.8665 - val_loss: 0.2514 - val_categorical_accuracy: 0.9307\n",
      "Epoch 2/20\n",
      "473/473 [==============================] - 1s 2ms/step - loss: 0.2655 - categorical_accuracy: 0.9146 - val_loss: 0.1858 - val_categorical_accuracy: 0.9398\n",
      "Epoch 3/20\n",
      "473/473 [==============================] - 1s 2ms/step - loss: 0.2218 - categorical_accuracy: 0.9296 - val_loss: 0.1637 - val_categorical_accuracy: 0.9454\n",
      "Epoch 4/20\n",
      "473/473 [==============================] - 1s 2ms/step - loss: 0.2012 - categorical_accuracy: 0.9356 - val_loss: 0.1570 - val_categorical_accuracy: 0.9497\n",
      "Epoch 5/20\n",
      "473/473 [==============================] - 1s 2ms/step - loss: 0.2030 - categorical_accuracy: 0.9368 - val_loss: 0.1504 - val_categorical_accuracy: 0.9517\n",
      "Epoch 6/20\n",
      "473/473 [==============================] - 1s 2ms/step - loss: 0.1967 - categorical_accuracy: 0.9380 - val_loss: 0.1547 - val_categorical_accuracy: 0.9497\n",
      "Epoch 7/20\n",
      "473/473 [==============================] - 1s 2ms/step - loss: 0.1844 - categorical_accuracy: 0.9431 - val_loss: 0.1442 - val_categorical_accuracy: 0.9519\n",
      "Epoch 8/20\n",
      "473/473 [==============================] - 1s 2ms/step - loss: 0.1827 - categorical_accuracy: 0.9425 - val_loss: 0.1475 - val_categorical_accuracy: 0.9511\n",
      "Epoch 9/20\n",
      "473/473 [==============================] - 1s 2ms/step - loss: 0.1858 - categorical_accuracy: 0.9413 - val_loss: 0.1334 - val_categorical_accuracy: 0.9576\n",
      "Epoch 10/20\n",
      "473/473 [==============================] - 1s 2ms/step - loss: 0.1787 - categorical_accuracy: 0.9438 - val_loss: 0.1352 - val_categorical_accuracy: 0.9565\n",
      "Epoch 11/20\n",
      "473/473 [==============================] - 1s 1ms/step - loss: 0.1814 - categorical_accuracy: 0.9420 - val_loss: 0.1294 - val_categorical_accuracy: 0.9594\n",
      "Epoch 12/20\n",
      "473/473 [==============================] - 0s 930us/step - loss: 0.1824 - categorical_accuracy: 0.9425 - val_loss: 0.1351 - val_categorical_accuracy: 0.9562\n",
      "Epoch 13/20\n",
      "473/473 [==============================] - 0s 1000us/step - loss: 0.1774 - categorical_accuracy: 0.9427 - val_loss: 0.1277 - val_categorical_accuracy: 0.9591\n",
      "Epoch 14/20\n",
      "473/473 [==============================] - 0s 956us/step - loss: 0.1744 - categorical_accuracy: 0.9452 - val_loss: 0.1278 - val_categorical_accuracy: 0.9600\n",
      "Epoch 15/20\n",
      "473/473 [==============================] - 0s 968us/step - loss: 0.1669 - categorical_accuracy: 0.9452 - val_loss: 0.1321 - val_categorical_accuracy: 0.9551\n",
      "Epoch 16/20\n",
      "473/473 [==============================] - 0s 964us/step - loss: 0.1716 - categorical_accuracy: 0.9447 - val_loss: 0.1261 - val_categorical_accuracy: 0.9593\n",
      "Epoch 17/20\n",
      "473/473 [==============================] - 0s 945us/step - loss: 0.1742 - categorical_accuracy: 0.9435 - val_loss: 0.1226 - val_categorical_accuracy: 0.9610\n",
      "Epoch 18/20\n",
      "473/473 [==============================] - 0s 956us/step - loss: 0.1687 - categorical_accuracy: 0.9460 - val_loss: 0.1266 - val_categorical_accuracy: 0.9586\n",
      "Epoch 19/20\n",
      "473/473 [==============================] - 0s 1ms/step - loss: 0.1659 - categorical_accuracy: 0.9468 - val_loss: 0.1267 - val_categorical_accuracy: 0.9585\n",
      "Epoch 20/20\n",
      "473/473 [==============================] - 0s 1ms/step - loss: 0.1693 - categorical_accuracy: 0.9464 - val_loss: 0.1289 - val_categorical_accuracy: 0.9586\n"
     ]
    },
    {
     "data": {
      "text/plain": [
       "<keras.callbacks.History at 0x2151789af40>"
      ]
     },
     "execution_count": 59,
     "metadata": {},
     "output_type": "execute_result"
    }
   ],
   "source": [
    "model.fit(np.array(X_train3), np.array(y_train3), validation_data=[np.array(X_test3), np.array(y_test3)], epochs=20, batch_size=32, verbose=1)"
   ]
  },
  {
   "cell_type": "markdown",
   "id": "351a900f",
   "metadata": {},
   "source": [
    "## 3.2 Modelo 3* (2 camadas ocultas: 1 densa, 1 BatchNormalization)"
   ]
  },
  {
   "cell_type": "code",
   "execution_count": 60,
   "id": "f7bc37cf",
   "metadata": {},
   "outputs": [
    {
     "name": "stdout",
     "output_type": "stream",
     "text": [
      "Model: \"sequential_7\"\n",
      "_________________________________________________________________\n",
      " Layer (type)                Output Shape              Param #   \n",
      "=================================================================\n",
      " dense_16 (Dense)            (None, 20)                2020      \n",
      "                                                                 \n",
      " batch_normalization_3 (Batc  (None, 20)               80        \n",
      " hNormalization)                                                 \n",
      "                                                                 \n",
      " dropout_9 (Dropout)         (None, 20)                0         \n",
      "                                                                 \n",
      " dense_17 (Dense)            (None, 3)                 63        \n",
      "                                                                 \n",
      "=================================================================\n",
      "Total params: 2,163\n",
      "Trainable params: 2,123\n",
      "Non-trainable params: 40\n",
      "_________________________________________________________________\n"
     ]
    }
   ],
   "source": [
    "model = Sequential()\n",
    "model.add(Dense(20, activation='relu', input_shape=(X_op2_mod2[0].shape)))\n",
    "model.add(BatchNormalization())\n",
    "model.add(Dropout(.25))\n",
    "model.add(Dense(3, activation='softmax'))\n",
    "model.compile(optimizer=\"rmsprop\", loss=\"categorical_crossentropy\",metrics=['categorical_accuracy'])\n",
    "model.summary()"
   ]
  },
  {
   "cell_type": "code",
   "execution_count": 61,
   "id": "7bed9646",
   "metadata": {},
   "outputs": [
    {
     "name": "stdout",
     "output_type": "stream",
     "text": [
      "Epoch 1/20\n",
      "473/473 [==============================] - 2s 2ms/step - loss: 0.3094 - categorical_accuracy: 0.8988 - val_loss: 0.1967 - val_categorical_accuracy: 0.9452\n",
      "Epoch 2/20\n",
      "473/473 [==============================] - 1s 2ms/step - loss: 0.1878 - categorical_accuracy: 0.9419 - val_loss: 0.1410 - val_categorical_accuracy: 0.9556\n",
      "Epoch 3/20\n",
      "473/473 [==============================] - 1s 2ms/step - loss: 0.1695 - categorical_accuracy: 0.9491 - val_loss: 0.1343 - val_categorical_accuracy: 0.9585\n",
      "Epoch 4/20\n",
      "473/473 [==============================] - 1s 2ms/step - loss: 0.1523 - categorical_accuracy: 0.9530 - val_loss: 0.1263 - val_categorical_accuracy: 0.9600\n",
      "Epoch 5/20\n",
      "473/473 [==============================] - 1s 2ms/step - loss: 0.1456 - categorical_accuracy: 0.9563 - val_loss: 0.1133 - val_categorical_accuracy: 0.9651\n",
      "Epoch 6/20\n",
      "473/473 [==============================] - 1s 2ms/step - loss: 0.1492 - categorical_accuracy: 0.9532 - val_loss: 0.1146 - val_categorical_accuracy: 0.9633\n",
      "Epoch 7/20\n",
      "473/473 [==============================] - 1s 2ms/step - loss: 0.1410 - categorical_accuracy: 0.9567 - val_loss: 0.1099 - val_categorical_accuracy: 0.9656\n",
      "Epoch 8/20\n",
      "473/473 [==============================] - 1s 2ms/step - loss: 0.1405 - categorical_accuracy: 0.9579 - val_loss: 0.1045 - val_categorical_accuracy: 0.9659\n",
      "Epoch 9/20\n",
      "473/473 [==============================] - 1s 2ms/step - loss: 0.1399 - categorical_accuracy: 0.9583 - val_loss: 0.1051 - val_categorical_accuracy: 0.9671\n",
      "Epoch 10/20\n",
      "473/473 [==============================] - 0s 943us/step - loss: 0.1346 - categorical_accuracy: 0.9581 - val_loss: 0.1102 - val_categorical_accuracy: 0.9657\n",
      "Epoch 11/20\n",
      "473/473 [==============================] - 0s 936us/step - loss: 0.1339 - categorical_accuracy: 0.9597 - val_loss: 0.0947 - val_categorical_accuracy: 0.9677\n",
      "Epoch 12/20\n",
      "473/473 [==============================] - 0s 995us/step - loss: 0.1320 - categorical_accuracy: 0.9610 - val_loss: 0.1014 - val_categorical_accuracy: 0.9671\n",
      "Epoch 13/20\n",
      "473/473 [==============================] - 0s 1ms/step - loss: 0.1294 - categorical_accuracy: 0.9616 - val_loss: 0.0968 - val_categorical_accuracy: 0.9705\n",
      "Epoch 14/20\n",
      "473/473 [==============================] - 1s 1ms/step - loss: 0.1306 - categorical_accuracy: 0.9620 - val_loss: 0.0948 - val_categorical_accuracy: 0.9702\n",
      "Epoch 15/20\n",
      "473/473 [==============================] - 0s 1ms/step - loss: 0.1261 - categorical_accuracy: 0.9606 - val_loss: 0.0910 - val_categorical_accuracy: 0.9698\n",
      "Epoch 16/20\n",
      "473/473 [==============================] - 0s 955us/step - loss: 0.1287 - categorical_accuracy: 0.9614 - val_loss: 0.0962 - val_categorical_accuracy: 0.9698\n",
      "Epoch 17/20\n",
      "473/473 [==============================] - 0s 1ms/step - loss: 0.1280 - categorical_accuracy: 0.9634 - val_loss: 0.0957 - val_categorical_accuracy: 0.9691\n",
      "Epoch 18/20\n",
      "473/473 [==============================] - 0s 1ms/step - loss: 0.1255 - categorical_accuracy: 0.9631 - val_loss: 0.1023 - val_categorical_accuracy: 0.9690\n",
      "Epoch 19/20\n",
      "473/473 [==============================] - 1s 1ms/step - loss: 0.1239 - categorical_accuracy: 0.9629 - val_loss: 0.0938 - val_categorical_accuracy: 0.9710\n",
      "Epoch 20/20\n",
      "473/473 [==============================] - 0s 1ms/step - loss: 0.1267 - categorical_accuracy: 0.9633 - val_loss: 0.0868 - val_categorical_accuracy: 0.9719\n"
     ]
    },
    {
     "data": {
      "text/plain": [
       "<keras.callbacks.History at 0x21519dcdc10>"
      ]
     },
     "execution_count": 61,
     "metadata": {},
     "output_type": "execute_result"
    }
   ],
   "source": [
    "model.fit(np.array(X_train3), np.array(y_train3), validation_data=[np.array(X_test3), np.array(y_test3)], epochs=20, batch_size=32, verbose=1)"
   ]
  },
  {
   "cell_type": "markdown",
   "id": "166cba18",
   "metadata": {},
   "source": [
    "# 4. Teste 4 com os documentos grandes"
   ]
  },
  {
   "cell_type": "code",
   "execution_count": 68,
   "id": "575291f0",
   "metadata": {},
   "outputs": [],
   "source": [
    "y_3 = deepcopy(data['y3'])"
   ]
  },
  {
   "cell_type": "code",
   "execution_count": 69,
   "id": "b36a3879",
   "metadata": {},
   "outputs": [],
   "source": [
    "labels_3 = {}\n",
    "for i,j in zip(np.unique(y_3), range(len(np.unique(y_3)))):\n",
    "    labels_3[i] = j"
   ]
  },
  {
   "cell_type": "code",
   "execution_count": 70,
   "id": "8ccfc932",
   "metadata": {},
   "outputs": [
    {
     "data": {
      "text/plain": [
       "{'CNH': 0, 'CPF': 1, 'RG': 2}"
      ]
     },
     "execution_count": 70,
     "metadata": {},
     "output_type": "execute_result"
    }
   ],
   "source": [
    "labels_3"
   ]
  },
  {
   "cell_type": "code",
   "execution_count": 71,
   "id": "28bcef72",
   "metadata": {},
   "outputs": [],
   "source": [
    "for i in range(len(y_3)):\n",
    "    y_3[i] = labels_3[y_3[i]]"
   ]
  },
  {
   "cell_type": "code",
   "execution_count": 72,
   "id": "02229307",
   "metadata": {},
   "outputs": [],
   "source": [
    "y_3 = to_categorical(y_3,len(np.unique(y_3)))"
   ]
  },
  {
   "cell_type": "markdown",
   "id": "b997a716",
   "metadata": {},
   "source": [
    "## 4.1 Modelo 3 (3 camadas ocultas: 1 densa, 1 BatchNormalization, 1 densa)"
   ]
  },
  {
   "cell_type": "code",
   "execution_count": 78,
   "id": "2966ccaf",
   "metadata": {},
   "outputs": [],
   "source": [
    "X_train4, X_test4, y_train4, y_test4 = train_test_split(X_op2, y_3, test_size=0.3)"
   ]
  },
  {
   "cell_type": "code",
   "execution_count": 85,
   "id": "997488fe",
   "metadata": {},
   "outputs": [
    {
     "name": "stdout",
     "output_type": "stream",
     "text": [
      "Model: \"sequential_12\"\n",
      "_________________________________________________________________\n",
      " Layer (type)                Output Shape              Param #   \n",
      "=================================================================\n",
      " dense_24 (Dense)            (None, 50)                42550     \n",
      "                                                                 \n",
      " batch_normalization_4 (Batc  (None, 50)               200       \n",
      " hNormalization)                                                 \n",
      "                                                                 \n",
      " dropout_14 (Dropout)        (None, 50)                0         \n",
      "                                                                 \n",
      " dense_25 (Dense)            (None, 3)                 153       \n",
      "                                                                 \n",
      "=================================================================\n",
      "Total params: 42,903\n",
      "Trainable params: 42,803\n",
      "Non-trainable params: 100\n",
      "_________________________________________________________________\n"
     ]
    }
   ],
   "source": [
    "model = Sequential()\n",
    "model.add(Dense(50, activation='relu', input_shape=(np.array(X_op2)[0].shape)))\n",
    "model.add(BatchNormalization())\n",
    "model.add(Dropout(.25))\n",
    "model.add(Dense(3, activation='softmax'))\n",
    "model.compile(optimizer=\"rmsprop\", loss=\"categorical_crossentropy\",metrics=['categorical_accuracy'])\n",
    "model.summary()"
   ]
  },
  {
   "cell_type": "code",
   "execution_count": 86,
   "id": "5b792b91",
   "metadata": {
    "scrolled": false
   },
   "outputs": [
    {
     "name": "stdout",
     "output_type": "stream",
     "text": [
      "Epoch 1/20\n",
      "630/630 [==============================] - 2s 2ms/step - loss: 0.2494 - categorical_accuracy: 0.9216 - val_loss: 0.1255 - val_categorical_accuracy: 0.9637\n",
      "Epoch 2/20\n",
      "630/630 [==============================] - 1s 2ms/step - loss: 0.1346 - categorical_accuracy: 0.9587 - val_loss: 0.1073 - val_categorical_accuracy: 0.9663\n",
      "Epoch 3/20\n",
      "630/630 [==============================] - 1s 2ms/step - loss: 0.1218 - categorical_accuracy: 0.9623 - val_loss: 0.1024 - val_categorical_accuracy: 0.9693\n",
      "Epoch 4/20\n",
      "630/630 [==============================] - 1s 2ms/step - loss: 0.1173 - categorical_accuracy: 0.9628 - val_loss: 0.0857 - val_categorical_accuracy: 0.9742\n",
      "Epoch 5/20\n",
      "630/630 [==============================] - 1s 2ms/step - loss: 0.1117 - categorical_accuracy: 0.9664 - val_loss: 0.0917 - val_categorical_accuracy: 0.9719\n",
      "Epoch 6/20\n",
      "630/630 [==============================] - 1s 1ms/step - loss: 0.1024 - categorical_accuracy: 0.9676 - val_loss: 0.0865 - val_categorical_accuracy: 0.9721\n",
      "Epoch 7/20\n",
      "630/630 [==============================] - 1s 1ms/step - loss: 0.1047 - categorical_accuracy: 0.9681 - val_loss: 0.0915 - val_categorical_accuracy: 0.9741\n",
      "Epoch 8/20\n",
      "630/630 [==============================] - 1s 1ms/step - loss: 0.1015 - categorical_accuracy: 0.9677 - val_loss: 0.0782 - val_categorical_accuracy: 0.9751\n",
      "Epoch 9/20\n",
      "630/630 [==============================] - 1s 1ms/step - loss: 0.0961 - categorical_accuracy: 0.9716 - val_loss: 0.0837 - val_categorical_accuracy: 0.9750\n",
      "Epoch 10/20\n",
      "630/630 [==============================] - 1s 1ms/step - loss: 0.0947 - categorical_accuracy: 0.9707 - val_loss: 0.0818 - val_categorical_accuracy: 0.9759\n",
      "Epoch 11/20\n",
      "630/630 [==============================] - 1s 1ms/step - loss: 0.0990 - categorical_accuracy: 0.9704 - val_loss: 0.0820 - val_categorical_accuracy: 0.9755\n",
      "Epoch 12/20\n",
      "630/630 [==============================] - 1s 1ms/step - loss: 0.0957 - categorical_accuracy: 0.9697 - val_loss: 0.0826 - val_categorical_accuracy: 0.9758\n",
      "Epoch 13/20\n",
      "630/630 [==============================] - 1s 1ms/step - loss: 0.0911 - categorical_accuracy: 0.9709 - val_loss: 0.0756 - val_categorical_accuracy: 0.9775\n",
      "Epoch 14/20\n",
      "630/630 [==============================] - 1s 1ms/step - loss: 0.0956 - categorical_accuracy: 0.9704 - val_loss: 0.0736 - val_categorical_accuracy: 0.9770\n",
      "Epoch 15/20\n",
      "630/630 [==============================] - 1s 1ms/step - loss: 0.0913 - categorical_accuracy: 0.9717 - val_loss: 0.0732 - val_categorical_accuracy: 0.9765\n",
      "Epoch 16/20\n",
      "630/630 [==============================] - 1s 1ms/step - loss: 0.0880 - categorical_accuracy: 0.9726 - val_loss: 0.0736 - val_categorical_accuracy: 0.9770\n",
      "Epoch 17/20\n",
      "630/630 [==============================] - 1s 1ms/step - loss: 0.0901 - categorical_accuracy: 0.9735 - val_loss: 0.0838 - val_categorical_accuracy: 0.9777\n",
      "Epoch 18/20\n",
      "630/630 [==============================] - 1s 1ms/step - loss: 0.0906 - categorical_accuracy: 0.9719 - val_loss: 0.0694 - val_categorical_accuracy: 0.9775\n",
      "Epoch 19/20\n",
      "630/630 [==============================] - 1s 1ms/step - loss: 0.0852 - categorical_accuracy: 0.9743 - val_loss: 0.0764 - val_categorical_accuracy: 0.9785\n",
      "Epoch 20/20\n",
      "630/630 [==============================] - 1s 1ms/step - loss: 0.0874 - categorical_accuracy: 0.9741 - val_loss: 0.0839 - val_categorical_accuracy: 0.9773\n"
     ]
    },
    {
     "data": {
      "text/plain": [
       "<keras.callbacks.History at 0x2157adc8f70>"
      ]
     },
     "execution_count": 86,
     "metadata": {},
     "output_type": "execute_result"
    }
   ],
   "source": [
    "model.fit(np.array(X_train4), np.array(y_train4), validation_data=[np.array(X_test4), np.array(y_test4)], epochs=20, batch_size=32, verbose=1)"
   ]
  },
  {
   "cell_type": "markdown",
   "id": "260cbe98",
   "metadata": {},
   "source": [
    "## 4.2 Modelo 2 (2 camadas ocultas densas)"
   ]
  },
  {
   "cell_type": "code",
   "execution_count": 83,
   "id": "4ba43519",
   "metadata": {},
   "outputs": [
    {
     "name": "stdout",
     "output_type": "stream",
     "text": [
      "Model: \"sequential_11\"\n",
      "_________________________________________________________________\n",
      " Layer (type)                Output Shape              Param #   \n",
      "=================================================================\n",
      " dense_21 (Dense)            (None, 425)               361675    \n",
      "                                                                 \n",
      " dropout_12 (Dropout)        (None, 425)               0         \n",
      "                                                                 \n",
      " dense_22 (Dense)            (None, 25)                10650     \n",
      "                                                                 \n",
      " dropout_13 (Dropout)        (None, 25)                0         \n",
      "                                                                 \n",
      " dense_23 (Dense)            (None, 3)                 78        \n",
      "                                                                 \n",
      "=================================================================\n",
      "Total params: 372,403\n",
      "Trainable params: 372,403\n",
      "Non-trainable params: 0\n",
      "_________________________________________________________________\n"
     ]
    }
   ],
   "source": [
    "model = Sequential()\n",
    "model.add(Dense(425, activation='relu', input_shape=(np.array(X_op2)[0].shape)))\n",
    "model.add(Dropout(.25))\n",
    "model.add(Dense(25, activation='relu'))\n",
    "model.add(Dropout(.25))\n",
    "model.add(Dense(3, activation='softmax'))\n",
    "model.compile(optimizer=\"rmsprop\", loss=\"categorical_crossentropy\",metrics=['categorical_accuracy'])\n",
    "model.summary()"
   ]
  },
  {
   "cell_type": "code",
   "execution_count": 84,
   "id": "c1fd4b64",
   "metadata": {
    "scrolled": true
   },
   "outputs": [
    {
     "name": "stdout",
     "output_type": "stream",
     "text": [
      "Epoch 1/20\n",
      "630/630 [==============================] - 5s 7ms/step - loss: 0.2405 - categorical_accuracy: 0.9203 - val_loss: 0.1286 - val_categorical_accuracy: 0.9578\n",
      "Epoch 2/20\n",
      "630/630 [==============================] - 3s 5ms/step - loss: 0.1321 - categorical_accuracy: 0.9591 - val_loss: 0.1029 - val_categorical_accuracy: 0.9706\n",
      "Epoch 3/20\n",
      "630/630 [==============================] - 3s 5ms/step - loss: 0.1184 - categorical_accuracy: 0.9659 - val_loss: 0.0939 - val_categorical_accuracy: 0.9740\n",
      "Epoch 4/20\n",
      "630/630 [==============================] - 3s 5ms/step - loss: 0.1088 - categorical_accuracy: 0.9700 - val_loss: 0.0993 - val_categorical_accuracy: 0.9719\n",
      "Epoch 5/20\n",
      "630/630 [==============================] - 3s 5ms/step - loss: 0.0996 - categorical_accuracy: 0.9731 - val_loss: 0.1071 - val_categorical_accuracy: 0.9745\n",
      "Epoch 6/20\n",
      "630/630 [==============================] - 3s 5ms/step - loss: 0.0961 - categorical_accuracy: 0.9731 - val_loss: 0.0918 - val_categorical_accuracy: 0.9759\n",
      "Epoch 7/20\n",
      "630/630 [==============================] - 3s 5ms/step - loss: 0.0919 - categorical_accuracy: 0.9743 - val_loss: 0.0802 - val_categorical_accuracy: 0.9769\n",
      "Epoch 8/20\n",
      "630/630 [==============================] - 3s 5ms/step - loss: 0.0946 - categorical_accuracy: 0.9749 - val_loss: 0.0943 - val_categorical_accuracy: 0.9767\n",
      "Epoch 9/20\n",
      "630/630 [==============================] - 3s 5ms/step - loss: 0.0911 - categorical_accuracy: 0.9755 - val_loss: 0.0906 - val_categorical_accuracy: 0.9777\n",
      "Epoch 10/20\n",
      "630/630 [==============================] - 3s 5ms/step - loss: 0.0906 - categorical_accuracy: 0.9767 - val_loss: 0.0849 - val_categorical_accuracy: 0.9756\n",
      "Epoch 11/20\n",
      "630/630 [==============================] - 3s 5ms/step - loss: 0.0910 - categorical_accuracy: 0.9766 - val_loss: 0.1032 - val_categorical_accuracy: 0.9758\n",
      "Epoch 12/20\n",
      "630/630 [==============================] - 3s 5ms/step - loss: 0.0884 - categorical_accuracy: 0.9766 - val_loss: 0.0874 - val_categorical_accuracy: 0.9760\n",
      "Epoch 13/20\n",
      "630/630 [==============================] - 3s 5ms/step - loss: 0.0857 - categorical_accuracy: 0.9773 - val_loss: 0.1167 - val_categorical_accuracy: 0.9728\n",
      "Epoch 14/20\n",
      "630/630 [==============================] - 3s 5ms/step - loss: 0.0855 - categorical_accuracy: 0.9777 - val_loss: 0.0950 - val_categorical_accuracy: 0.9757\n",
      "Epoch 15/20\n",
      "630/630 [==============================] - 3s 5ms/step - loss: 0.0913 - categorical_accuracy: 0.9775 - val_loss: 0.0949 - val_categorical_accuracy: 0.9765\n",
      "Epoch 16/20\n",
      "630/630 [==============================] - 3s 5ms/step - loss: 0.0861 - categorical_accuracy: 0.9779 - val_loss: 0.0934 - val_categorical_accuracy: 0.9744\n",
      "Epoch 17/20\n",
      "630/630 [==============================] - 3s 5ms/step - loss: 0.0816 - categorical_accuracy: 0.9784 - val_loss: 0.0814 - val_categorical_accuracy: 0.9786\n",
      "Epoch 18/20\n",
      "630/630 [==============================] - 3s 5ms/step - loss: 0.0830 - categorical_accuracy: 0.9793 - val_loss: 0.0875 - val_categorical_accuracy: 0.9775\n",
      "Epoch 19/20\n",
      "630/630 [==============================] - 3s 5ms/step - loss: 0.0773 - categorical_accuracy: 0.9784 - val_loss: 0.0827 - val_categorical_accuracy: 0.9777\n",
      "Epoch 20/20\n",
      "630/630 [==============================] - 3s 5ms/step - loss: 0.0768 - categorical_accuracy: 0.9795 - val_loss: 0.0853 - val_categorical_accuracy: 0.9793\n"
     ]
    },
    {
     "data": {
      "text/plain": [
       "<keras.callbacks.History at 0x2157a9afc10>"
      ]
     },
     "execution_count": 84,
     "metadata": {},
     "output_type": "execute_result"
    }
   ],
   "source": [
    "model.fit(np.array(X_train4), np.array(y_train4), validation_data=[np.array(X_test4), np.array(y_test4)], epochs=20, batch_size=32, verbose=1)"
   ]
  },
  {
   "cell_type": "markdown",
   "id": "83a5d240",
   "metadata": {},
   "source": [
    "# 5. Teste 5: 100 valores do hsv, com amostras grandes e 3 classes"
   ]
  },
  {
   "cell_type": "code",
   "execution_count": 92,
   "id": "0e9ca98b",
   "metadata": {
    "scrolled": false
   },
   "outputs": [],
   "source": [
    "X_op2_mod3 = []\n",
    "for i in range(len(X_op2)):\n",
    "    X_op2_mod3.append(X_op2[i][-100:])"
   ]
  },
  {
   "cell_type": "code",
   "execution_count": 96,
   "id": "b51a1ace",
   "metadata": {},
   "outputs": [],
   "source": [
    "X_train5, X_test5, y_train5, y_test5 = train_test_split(X_op2_mod3, y_3, test_size=0.3)"
   ]
  },
  {
   "cell_type": "markdown",
   "id": "041b674d",
   "metadata": {},
   "source": [
    "## 5.1 Modelo 3 (2 camadas ocultas: 1 densa, 1 BatchNormalization)"
   ]
  },
  {
   "cell_type": "code",
   "execution_count": 97,
   "id": "9baa6224",
   "metadata": {},
   "outputs": [],
   "source": [
    "X_op2_mod3 = np.array(X_op2_mod3)"
   ]
  },
  {
   "cell_type": "code",
   "execution_count": 98,
   "id": "cd6e8a84",
   "metadata": {},
   "outputs": [
    {
     "name": "stdout",
     "output_type": "stream",
     "text": [
      "Model: \"sequential_14\"\n",
      "_________________________________________________________________\n",
      " Layer (type)                Output Shape              Param #   \n",
      "=================================================================\n",
      " dense_26 (Dense)            (None, 10)                1010      \n",
      "                                                                 \n",
      " batch_normalization_5 (Batc  (None, 10)               40        \n",
      " hNormalization)                                                 \n",
      "                                                                 \n",
      " dropout_15 (Dropout)        (None, 10)                0         \n",
      "                                                                 \n",
      " dense_27 (Dense)            (None, 3)                 33        \n",
      "                                                                 \n",
      "=================================================================\n",
      "Total params: 1,083\n",
      "Trainable params: 1,063\n",
      "Non-trainable params: 20\n",
      "_________________________________________________________________\n"
     ]
    }
   ],
   "source": [
    "model = Sequential()\n",
    "model.add(Dense(10, activation='relu', input_shape=(X_op2_mod3[0].shape)))\n",
    "model.add(BatchNormalization())\n",
    "model.add(Dropout(.25))\n",
    "model.add(Dense(3, activation='softmax'))\n",
    "model.compile(optimizer=\"rmsprop\", loss=\"categorical_crossentropy\",metrics=['categorical_accuracy'])\n",
    "model.summary()"
   ]
  },
  {
   "cell_type": "code",
   "execution_count": 99,
   "id": "9597c355",
   "metadata": {
    "scrolled": true
   },
   "outputs": [
    {
     "name": "stdout",
     "output_type": "stream",
     "text": [
      "Epoch 1/20\n",
      "630/630 [==============================] - 2s 2ms/step - loss: 0.3534 - categorical_accuracy: 0.8920 - val_loss: 0.1712 - val_categorical_accuracy: 0.9485\n",
      "Epoch 2/20\n",
      "630/630 [==============================] - 1s 2ms/step - loss: 0.2098 - categorical_accuracy: 0.9362 - val_loss: 0.1482 - val_categorical_accuracy: 0.9532\n",
      "Epoch 3/20\n",
      "630/630 [==============================] - 1s 2ms/step - loss: 0.1969 - categorical_accuracy: 0.9415 - val_loss: 0.1328 - val_categorical_accuracy: 0.9560\n",
      "Epoch 4/20\n",
      "630/630 [==============================] - 1s 2ms/step - loss: 0.1887 - categorical_accuracy: 0.9415 - val_loss: 0.1299 - val_categorical_accuracy: 0.9566\n",
      "Epoch 5/20\n",
      "630/630 [==============================] - 1s 2ms/step - loss: 0.1816 - categorical_accuracy: 0.9456 - val_loss: 0.1279 - val_categorical_accuracy: 0.9550\n",
      "Epoch 6/20\n",
      "630/630 [==============================] - 1s 2ms/step - loss: 0.1769 - categorical_accuracy: 0.9457 - val_loss: 0.1189 - val_categorical_accuracy: 0.9590\n",
      "Epoch 7/20\n",
      "630/630 [==============================] - 1s 2ms/step - loss: 0.1771 - categorical_accuracy: 0.9452 - val_loss: 0.1265 - val_categorical_accuracy: 0.9566\n",
      "Epoch 8/20\n",
      "630/630 [==============================] - 1s 2ms/step - loss: 0.1825 - categorical_accuracy: 0.9449 - val_loss: 0.1151 - val_categorical_accuracy: 0.9616\n",
      "Epoch 9/20\n",
      "630/630 [==============================] - 1s 2ms/step - loss: 0.1686 - categorical_accuracy: 0.9460 - val_loss: 0.1131 - val_categorical_accuracy: 0.9613\n",
      "Epoch 10/20\n",
      "630/630 [==============================] - 1s 916us/step - loss: 0.1667 - categorical_accuracy: 0.9483 - val_loss: 0.1052 - val_categorical_accuracy: 0.9646\n",
      "Epoch 11/20\n",
      "630/630 [==============================] - 1s 878us/step - loss: 0.1718 - categorical_accuracy: 0.9463 - val_loss: 0.1098 - val_categorical_accuracy: 0.9623\n",
      "Epoch 12/20\n",
      "630/630 [==============================] - 1s 929us/step - loss: 0.1675 - categorical_accuracy: 0.9490 - val_loss: 0.1076 - val_categorical_accuracy: 0.9641\n",
      "Epoch 13/20\n",
      "630/630 [==============================] - 1s 914us/step - loss: 0.1650 - categorical_accuracy: 0.9502 - val_loss: 0.1052 - val_categorical_accuracy: 0.9666\n",
      "Epoch 14/20\n",
      "630/630 [==============================] - 1s 903us/step - loss: 0.1576 - categorical_accuracy: 0.9518 - val_loss: 0.1082 - val_categorical_accuracy: 0.9633\n",
      "Epoch 15/20\n",
      "630/630 [==============================] - 1s 911us/step - loss: 0.1626 - categorical_accuracy: 0.9501 - val_loss: 0.1103 - val_categorical_accuracy: 0.9623\n",
      "Epoch 16/20\n",
      "630/630 [==============================] - 1s 949us/step - loss: 0.1633 - categorical_accuracy: 0.9495 - val_loss: 0.1068 - val_categorical_accuracy: 0.9642\n",
      "Epoch 17/20\n",
      "630/630 [==============================] - 1s 958us/step - loss: 0.1623 - categorical_accuracy: 0.9506 - val_loss: 0.1041 - val_categorical_accuracy: 0.9644\n",
      "Epoch 18/20\n",
      "630/630 [==============================] - 1s 949us/step - loss: 0.1636 - categorical_accuracy: 0.9506 - val_loss: 0.1067 - val_categorical_accuracy: 0.9633\n",
      "Epoch 19/20\n",
      "630/630 [==============================] - 1s 922us/step - loss: 0.1690 - categorical_accuracy: 0.9494 - val_loss: 0.1000 - val_categorical_accuracy: 0.9655\n",
      "Epoch 20/20\n",
      "630/630 [==============================] - 1s 884us/step - loss: 0.1632 - categorical_accuracy: 0.9505 - val_loss: 0.1038 - val_categorical_accuracy: 0.9641\n"
     ]
    },
    {
     "data": {
      "text/plain": [
       "<keras.callbacks.History at 0x2157a9a4790>"
      ]
     },
     "execution_count": 99,
     "metadata": {},
     "output_type": "execute_result"
    }
   ],
   "source": [
    "model.fit(np.array(X_train5), np.array(y_train5), validation_data=[np.array(X_test5), np.array(y_test5)], epochs=20, batch_size=32, verbose=1)"
   ]
  },
  {
   "cell_type": "markdown",
   "id": "93f15ab3",
   "metadata": {},
   "source": [
    "## 5.2 Modelo 3* (2 camadas ocultas: 1 densa, 1 BatchNormalization)"
   ]
  },
  {
   "cell_type": "code",
   "execution_count": 100,
   "id": "7ad6256e",
   "metadata": {},
   "outputs": [
    {
     "name": "stdout",
     "output_type": "stream",
     "text": [
      "Model: \"sequential_15\"\n",
      "_________________________________________________________________\n",
      " Layer (type)                Output Shape              Param #   \n",
      "=================================================================\n",
      " dense_28 (Dense)            (None, 20)                2020      \n",
      "                                                                 \n",
      " batch_normalization_6 (Batc  (None, 20)               80        \n",
      " hNormalization)                                                 \n",
      "                                                                 \n",
      " dropout_16 (Dropout)        (None, 20)                0         \n",
      "                                                                 \n",
      " dense_29 (Dense)            (None, 3)                 63        \n",
      "                                                                 \n",
      "=================================================================\n",
      "Total params: 2,163\n",
      "Trainable params: 2,123\n",
      "Non-trainable params: 40\n",
      "_________________________________________________________________\n"
     ]
    }
   ],
   "source": [
    "model = Sequential()\n",
    "model.add(Dense(20, activation='relu', input_shape=(X_op2_mod3[0].shape)))\n",
    "model.add(BatchNormalization())\n",
    "model.add(Dropout(.25))\n",
    "model.add(Dense(3, activation='softmax'))\n",
    "model.compile(optimizer=\"rmsprop\", loss=\"categorical_crossentropy\",metrics=['categorical_accuracy'])\n",
    "model.summary()"
   ]
  },
  {
   "cell_type": "code",
   "execution_count": 101,
   "id": "b060c93a",
   "metadata": {
    "scrolled": true
   },
   "outputs": [
    {
     "name": "stdout",
     "output_type": "stream",
     "text": [
      "Epoch 1/20\n",
      "630/630 [==============================] - 1s 1ms/step - loss: 0.2935 - categorical_accuracy: 0.9043 - val_loss: 0.1431 - val_categorical_accuracy: 0.9572\n",
      "Epoch 2/20\n",
      "630/630 [==============================] - 1s 894us/step - loss: 0.1719 - categorical_accuracy: 0.9464 - val_loss: 0.1164 - val_categorical_accuracy: 0.9628\n",
      "Epoch 3/20\n",
      "630/630 [==============================] - 1s 909us/step - loss: 0.1597 - categorical_accuracy: 0.9538 - val_loss: 0.1046 - val_categorical_accuracy: 0.9675\n",
      "Epoch 4/20\n",
      "630/630 [==============================] - 1s 919us/step - loss: 0.1497 - categorical_accuracy: 0.9546 - val_loss: 0.0980 - val_categorical_accuracy: 0.9691\n",
      "Epoch 5/20\n",
      "630/630 [==============================] - 1s 901us/step - loss: 0.1415 - categorical_accuracy: 0.9567 - val_loss: 0.1051 - val_categorical_accuracy: 0.9664\n",
      "Epoch 6/20\n",
      "630/630 [==============================] - 1s 930us/step - loss: 0.1376 - categorical_accuracy: 0.9583 - val_loss: 0.0913 - val_categorical_accuracy: 0.9712\n",
      "Epoch 7/20\n",
      "630/630 [==============================] - 1s 915us/step - loss: 0.1290 - categorical_accuracy: 0.9618 - val_loss: 0.0868 - val_categorical_accuracy: 0.9718\n",
      "Epoch 8/20\n",
      "630/630 [==============================] - 1s 894us/step - loss: 0.1287 - categorical_accuracy: 0.9605 - val_loss: 0.0845 - val_categorical_accuracy: 0.9706\n",
      "Epoch 9/20\n",
      "630/630 [==============================] - 1s 919us/step - loss: 0.1282 - categorical_accuracy: 0.9611 - val_loss: 0.0872 - val_categorical_accuracy: 0.9713\n",
      "Epoch 10/20\n",
      "630/630 [==============================] - 1s 931us/step - loss: 0.1295 - categorical_accuracy: 0.9616 - val_loss: 0.0886 - val_categorical_accuracy: 0.9706\n",
      "Epoch 11/20\n",
      "630/630 [==============================] - 1s 901us/step - loss: 0.1317 - categorical_accuracy: 0.9606 - val_loss: 0.0831 - val_categorical_accuracy: 0.9714\n",
      "Epoch 12/20\n",
      "630/630 [==============================] - 1s 912us/step - loss: 0.1299 - categorical_accuracy: 0.9618 - val_loss: 0.0830 - val_categorical_accuracy: 0.9719\n",
      "Epoch 13/20\n",
      "630/630 [==============================] - 1s 929us/step - loss: 0.1263 - categorical_accuracy: 0.9620 - val_loss: 0.0872 - val_categorical_accuracy: 0.9713\n",
      "Epoch 14/20\n",
      "630/630 [==============================] - 1s 905us/step - loss: 0.1249 - categorical_accuracy: 0.9615 - val_loss: 0.0780 - val_categorical_accuracy: 0.9725\n",
      "Epoch 15/20\n",
      "630/630 [==============================] - 1s 915us/step - loss: 0.1217 - categorical_accuracy: 0.9630 - val_loss: 0.0813 - val_categorical_accuracy: 0.9716\n",
      "Epoch 16/20\n",
      "630/630 [==============================] - 1s 919us/step - loss: 0.1260 - categorical_accuracy: 0.9622 - val_loss: 0.0772 - val_categorical_accuracy: 0.9742\n",
      "Epoch 17/20\n",
      "630/630 [==============================] - 1s 1ms/step - loss: 0.1203 - categorical_accuracy: 0.9635 - val_loss: 0.0750 - val_categorical_accuracy: 0.9736\n",
      "Epoch 18/20\n",
      "630/630 [==============================] - 1s 977us/step - loss: 0.1211 - categorical_accuracy: 0.9647 - val_loss: 0.0799 - val_categorical_accuracy: 0.9744\n",
      "Epoch 19/20\n",
      "630/630 [==============================] - 1s 952us/step - loss: 0.1238 - categorical_accuracy: 0.9622 - val_loss: 0.0845 - val_categorical_accuracy: 0.9718\n",
      "Epoch 20/20\n",
      "630/630 [==============================] - 1s 941us/step - loss: 0.1215 - categorical_accuracy: 0.9644 - val_loss: 0.0884 - val_categorical_accuracy: 0.9714\n"
     ]
    },
    {
     "data": {
      "text/plain": [
       "<keras.callbacks.History at 0x2157ab00d90>"
      ]
     },
     "execution_count": 101,
     "metadata": {},
     "output_type": "execute_result"
    }
   ],
   "source": [
    "model.fit(np.array(X_train5), np.array(y_train5), validation_data=[np.array(X_test5), np.array(y_test5)], epochs=20, batch_size=32, verbose=1)"
   ]
  },
  {
   "cell_type": "markdown",
   "id": "dba7a3ca",
   "metadata": {},
   "source": [
    "# 6. Teste 6 apenas com o RGB"
   ]
  },
  {
   "cell_type": "code",
   "execution_count": 103,
   "id": "76b77306",
   "metadata": {},
   "outputs": [],
   "source": [
    "X_opt1 = deepcopy(data['opt1'])"
   ]
  },
  {
   "cell_type": "code",
   "execution_count": 104,
   "id": "c6fec8d3",
   "metadata": {},
   "outputs": [],
   "source": [
    "X_train6, X_test6, y_train6, y_test6 = train_test_split(X_opt1, y_3, test_size=0.3)"
   ]
  },
  {
   "cell_type": "markdown",
   "id": "c2d39a5c",
   "metadata": {},
   "source": [
    "## 6.1 Modelo 3 (2 camadas ocultas: 1 densa, 1 BatchNormalization) "
   ]
  },
  {
   "cell_type": "code",
   "execution_count": 107,
   "id": "9c72d643",
   "metadata": {},
   "outputs": [],
   "source": [
    "X_opt1 = np.array(X_opt1)"
   ]
  },
  {
   "cell_type": "code",
   "execution_count": 108,
   "id": "d93900da",
   "metadata": {},
   "outputs": [
    {
     "name": "stdout",
     "output_type": "stream",
     "text": [
      "Model: \"sequential_18\"\n",
      "_________________________________________________________________\n",
      " Layer (type)                Output Shape              Param #   \n",
      "=================================================================\n",
      " dense_30 (Dense)            (None, 50)                37550     \n",
      "                                                                 \n",
      " batch_normalization_7 (Batc  (None, 50)               200       \n",
      " hNormalization)                                                 \n",
      "                                                                 \n",
      " dropout_17 (Dropout)        (None, 50)                0         \n",
      "                                                                 \n",
      " dense_31 (Dense)            (None, 3)                 153       \n",
      "                                                                 \n",
      "=================================================================\n",
      "Total params: 37,903\n",
      "Trainable params: 37,803\n",
      "Non-trainable params: 100\n",
      "_________________________________________________________________\n"
     ]
    }
   ],
   "source": [
    "model = Sequential()\n",
    "model.add(Dense(50, activation='relu', input_shape=(X_opt1[0].shape)))\n",
    "model.add(BatchNormalization())\n",
    "model.add(Dropout(.25))\n",
    "model.add(Dense(3, activation='softmax'))\n",
    "model.compile(optimizer=\"rmsprop\", loss=\"categorical_crossentropy\",metrics=['categorical_accuracy'])\n",
    "model.summary()"
   ]
  },
  {
   "cell_type": "code",
   "execution_count": 109,
   "id": "bc9459a9",
   "metadata": {
    "scrolled": true
   },
   "outputs": [
    {
     "name": "stdout",
     "output_type": "stream",
     "text": [
      "Epoch 1/20\n",
      "630/630 [==============================] - 2s 2ms/step - loss: 0.7938 - categorical_accuracy: 0.6292 - val_loss: 0.6604 - val_categorical_accuracy: 0.6955\n",
      "Epoch 2/20\n",
      "630/630 [==============================] - 1s 2ms/step - loss: 0.6798 - categorical_accuracy: 0.6765 - val_loss: 0.6066 - val_categorical_accuracy: 0.7135\n",
      "Epoch 3/20\n",
      "630/630 [==============================] - 1s 2ms/step - loss: 0.6583 - categorical_accuracy: 0.6839 - val_loss: 0.6059 - val_categorical_accuracy: 0.7104\n",
      "Epoch 4/20\n",
      "630/630 [==============================] - 1s 2ms/step - loss: 0.6460 - categorical_accuracy: 0.6876 - val_loss: 0.5942 - val_categorical_accuracy: 0.7137\n",
      "Epoch 5/20\n",
      "630/630 [==============================] - 1s 2ms/step - loss: 0.6409 - categorical_accuracy: 0.6918 - val_loss: 0.5947 - val_categorical_accuracy: 0.7211\n",
      "Epoch 6/20\n",
      "630/630 [==============================] - 1s 1ms/step - loss: 0.6382 - categorical_accuracy: 0.6950 - val_loss: 0.5893 - val_categorical_accuracy: 0.7098\n",
      "Epoch 7/20\n",
      "630/630 [==============================] - 1s 1ms/step - loss: 0.6373 - categorical_accuracy: 0.6966 - val_loss: 0.5807 - val_categorical_accuracy: 0.7315\n",
      "Epoch 8/20\n",
      "630/630 [==============================] - 1s 2ms/step - loss: 0.6287 - categorical_accuracy: 0.7011 - val_loss: 0.5778 - val_categorical_accuracy: 0.7369\n",
      "Epoch 9/20\n",
      "630/630 [==============================] - 1s 1ms/step - loss: 0.6293 - categorical_accuracy: 0.7009 - val_loss: 0.5830 - val_categorical_accuracy: 0.7384\n",
      "Epoch 10/20\n",
      "630/630 [==============================] - 1s 1ms/step - loss: 0.6264 - categorical_accuracy: 0.7029 - val_loss: 0.5769 - val_categorical_accuracy: 0.7354\n",
      "Epoch 11/20\n",
      "630/630 [==============================] - 1s 2ms/step - loss: 0.6231 - categorical_accuracy: 0.7049 - val_loss: 0.5808 - val_categorical_accuracy: 0.7362\n",
      "Epoch 12/20\n",
      "630/630 [==============================] - 1s 1ms/step - loss: 0.6185 - categorical_accuracy: 0.7056 - val_loss: 0.5694 - val_categorical_accuracy: 0.7376\n",
      "Epoch 13/20\n",
      "630/630 [==============================] - 1s 1ms/step - loss: 0.6171 - categorical_accuracy: 0.7082 - val_loss: 0.5758 - val_categorical_accuracy: 0.7337\n",
      "Epoch 14/20\n",
      "630/630 [==============================] - 1s 1ms/step - loss: 0.6200 - categorical_accuracy: 0.7121 - val_loss: 0.5725 - val_categorical_accuracy: 0.7297\n",
      "Epoch 15/20\n",
      "630/630 [==============================] - 1s 1ms/step - loss: 0.6135 - categorical_accuracy: 0.7100 - val_loss: 0.5628 - val_categorical_accuracy: 0.7375\n",
      "Epoch 16/20\n",
      "630/630 [==============================] - 1s 1ms/step - loss: 0.6093 - categorical_accuracy: 0.7130 - val_loss: 0.5658 - val_categorical_accuracy: 0.7345\n",
      "Epoch 17/20\n",
      "630/630 [==============================] - 1s 1ms/step - loss: 0.6065 - categorical_accuracy: 0.7168 - val_loss: 0.5704 - val_categorical_accuracy: 0.7411\n",
      "Epoch 18/20\n",
      "630/630 [==============================] - 1s 1ms/step - loss: 0.6122 - categorical_accuracy: 0.7139 - val_loss: 0.5614 - val_categorical_accuracy: 0.7503\n",
      "Epoch 19/20\n",
      "630/630 [==============================] - 1s 1ms/step - loss: 0.6122 - categorical_accuracy: 0.7176 - val_loss: 0.5567 - val_categorical_accuracy: 0.7455\n",
      "Epoch 20/20\n",
      "630/630 [==============================] - 1s 1ms/step - loss: 0.6082 - categorical_accuracy: 0.7160 - val_loss: 0.5602 - val_categorical_accuracy: 0.7413\n"
     ]
    },
    {
     "data": {
      "text/plain": [
       "<keras.callbacks.History at 0x21518c055b0>"
      ]
     },
     "execution_count": 109,
     "metadata": {},
     "output_type": "execute_result"
    }
   ],
   "source": [
    "model.fit(np.array(X_train6), np.array(y_train6), validation_data=[np.array(X_test6), np.array(y_test6)], epochs=20, batch_size=32, verbose=1)"
   ]
  },
  {
   "cell_type": "markdown",
   "id": "71216533",
   "metadata": {},
   "source": [
    "## 6.2 Modelo 4 (3 camadas ocultas: 1 densa, 1 BatchNormalization, 1 densa) "
   ]
  },
  {
   "cell_type": "code",
   "execution_count": 110,
   "id": "8ea45744",
   "metadata": {},
   "outputs": [
    {
     "name": "stdout",
     "output_type": "stream",
     "text": [
      "Model: \"sequential_19\"\n",
      "_________________________________________________________________\n",
      " Layer (type)                Output Shape              Param #   \n",
      "=================================================================\n",
      " dense_32 (Dense)            (None, 375)               281625    \n",
      "                                                                 \n",
      " batch_normalization_8 (Batc  (None, 375)              1500      \n",
      " hNormalization)                                                 \n",
      "                                                                 \n",
      " dropout_18 (Dropout)        (None, 375)               0         \n",
      "                                                                 \n",
      " dense_33 (Dense)            (None, 25)                9400      \n",
      "                                                                 \n",
      " dropout_19 (Dropout)        (None, 25)                0         \n",
      "                                                                 \n",
      " dense_34 (Dense)            (None, 3)                 78        \n",
      "                                                                 \n",
      "=================================================================\n",
      "Total params: 292,603\n",
      "Trainable params: 291,853\n",
      "Non-trainable params: 750\n",
      "_________________________________________________________________\n"
     ]
    }
   ],
   "source": [
    "model = Sequential()\n",
    "model.add(Dense(375, activation='relu', input_shape=(X_opt1[0].shape)))\n",
    "model.add(BatchNormalization())\n",
    "model.add(Dropout(.25))\n",
    "model.add(Dense(25, activation='relu'))\n",
    "model.add(Dropout(.25))\n",
    "model.add(Dense(3, activation='softmax'))\n",
    "model.compile(optimizer=\"rmsprop\", loss=\"categorical_crossentropy\",metrics=['categorical_accuracy'])\n",
    "model.summary()"
   ]
  },
  {
   "cell_type": "code",
   "execution_count": 111,
   "id": "b1c3139a",
   "metadata": {},
   "outputs": [
    {
     "name": "stdout",
     "output_type": "stream",
     "text": [
      "Epoch 1/20\n",
      "630/630 [==============================] - 4s 6ms/step - loss: 0.7672 - categorical_accuracy: 0.6434 - val_loss: 0.6131 - val_categorical_accuracy: 0.7001\n",
      "Epoch 2/20\n",
      "630/630 [==============================] - 3s 5ms/step - loss: 0.6485 - categorical_accuracy: 0.6810 - val_loss: 0.5845 - val_categorical_accuracy: 0.7243\n",
      "Epoch 3/20\n",
      "630/630 [==============================] - 3s 4ms/step - loss: 0.6204 - categorical_accuracy: 0.7007 - val_loss: 0.5916 - val_categorical_accuracy: 0.7279\n",
      "Epoch 4/20\n",
      "630/630 [==============================] - 3s 4ms/step - loss: 0.6147 - categorical_accuracy: 0.7067 - val_loss: 0.5654 - val_categorical_accuracy: 0.7387\n",
      "Epoch 5/20\n",
      "630/630 [==============================] - 2s 4ms/step - loss: 0.6039 - categorical_accuracy: 0.7126 - val_loss: 0.5685 - val_categorical_accuracy: 0.7431\n",
      "Epoch 6/20\n",
      "630/630 [==============================] - 3s 4ms/step - loss: 0.6031 - categorical_accuracy: 0.7135 - val_loss: 0.5604 - val_categorical_accuracy: 0.7404\n",
      "Epoch 7/20\n",
      "630/630 [==============================] - 3s 4ms/step - loss: 0.5942 - categorical_accuracy: 0.7184 - val_loss: 0.5452 - val_categorical_accuracy: 0.7554\n",
      "Epoch 8/20\n",
      "630/630 [==============================] - 2s 4ms/step - loss: 0.5889 - categorical_accuracy: 0.7237 - val_loss: 0.5481 - val_categorical_accuracy: 0.7587\n",
      "Epoch 9/20\n",
      "630/630 [==============================] - 3s 4ms/step - loss: 0.5921 - categorical_accuracy: 0.7214 - val_loss: 0.5639 - val_categorical_accuracy: 0.7468\n",
      "Epoch 10/20\n",
      "630/630 [==============================] - 3s 4ms/step - loss: 0.5855 - categorical_accuracy: 0.7222 - val_loss: 0.5439 - val_categorical_accuracy: 0.7613\n",
      "Epoch 11/20\n",
      "630/630 [==============================] - 3s 4ms/step - loss: 0.5851 - categorical_accuracy: 0.7272 - val_loss: 0.5373 - val_categorical_accuracy: 0.7535\n",
      "Epoch 12/20\n",
      "630/630 [==============================] - 3s 4ms/step - loss: 0.5809 - categorical_accuracy: 0.7273 - val_loss: 0.5469 - val_categorical_accuracy: 0.7642\n",
      "Epoch 13/20\n",
      "630/630 [==============================] - 3s 4ms/step - loss: 0.5812 - categorical_accuracy: 0.7329 - val_loss: 0.5390 - val_categorical_accuracy: 0.7640\n",
      "Epoch 14/20\n",
      "630/630 [==============================] - 3s 4ms/step - loss: 0.5809 - categorical_accuracy: 0.7344 - val_loss: 0.5352 - val_categorical_accuracy: 0.7632\n",
      "Epoch 15/20\n",
      "630/630 [==============================] - 3s 4ms/step - loss: 0.5786 - categorical_accuracy: 0.7330 - val_loss: 0.5496 - val_categorical_accuracy: 0.7466\n",
      "Epoch 16/20\n",
      "630/630 [==============================] - 2s 4ms/step - loss: 0.5755 - categorical_accuracy: 0.7329 - val_loss: 0.5343 - val_categorical_accuracy: 0.7654\n",
      "Epoch 17/20\n",
      "630/630 [==============================] - 2s 4ms/step - loss: 0.5705 - categorical_accuracy: 0.7348 - val_loss: 0.5316 - val_categorical_accuracy: 0.7683\n",
      "Epoch 18/20\n",
      "630/630 [==============================] - 3s 4ms/step - loss: 0.5741 - categorical_accuracy: 0.7358 - val_loss: 0.5358 - val_categorical_accuracy: 0.7627\n",
      "Epoch 19/20\n",
      "630/630 [==============================] - 3s 4ms/step - loss: 0.5700 - categorical_accuracy: 0.7391 - val_loss: 0.5502 - val_categorical_accuracy: 0.7662\n",
      "Epoch 20/20\n",
      "630/630 [==============================] - 3s 4ms/step - loss: 0.5713 - categorical_accuracy: 0.7446 - val_loss: 0.5470 - val_categorical_accuracy: 0.7692\n"
     ]
    },
    {
     "data": {
      "text/plain": [
       "<keras.callbacks.History at 0x21517dfbbe0>"
      ]
     },
     "execution_count": 111,
     "metadata": {},
     "output_type": "execute_result"
    }
   ],
   "source": [
    "model.fit(np.array(X_train6), np.array(y_train6), validation_data=[np.array(X_test6), np.array(y_test6)], epochs=20, batch_size=32, verbose=1)"
   ]
  },
  {
   "cell_type": "markdown",
   "id": "b826cf54",
   "metadata": {},
   "source": [
    "# 7. Conclusão"
   ]
  },
  {
   "cell_type": "markdown",
   "id": "c8a0260d",
   "metadata": {},
   "source": [
    "<p> Com os testes realizados, foi possível ver com clareza que segmentar demais os targets atrapalha na predição da rede neural, onda a classificação sob a avaliação para 3 targets mostrou resultados bem melhores. A interpretação que podemos ter sobre isso é que o histograma entre o verso e a frente dos documentos são bem semelhantes, dificultando assim a avaliação da rede neural para diferenciá-los. </p> \n",
    "<p> Em relação às diferentes combinações de atributos, observamos que utilizar os histogramas do RGB + os 100 primeiros valores do histograma da matriz do HSV, bem como utilizar somente os 100 primeiros valores do histograma da matriz do HSV, apresentaram bons resultados para a classificação dos documentos, em contra partida, utilizar os histogramas do RGB não apresentou resultados tão bons. A partir disso, podemos perceber que os 100 primeiros valores do histograma da matriz do HSV foram bem significantes como abributos para a diferenciação dos documentos, pois tanto acompanhados dos histogramas do RGB como sozinhos apresentaram bons resultados. </p>\n",
    "<p> Também foram testados diferentes arranjos de redes neurais, entretanto, a variedade de combinações sendo pouca por conta da simplicação do problema inicial, que era o nosso objetivo. Testamos redes neurais com 1 camada oculta densa, 2 camadas ocultas densas e 2 camadas ocultas densas com 1 de BatchNormalization. A utilização de 1 camada densa e 2 camadas densas apresentaram bons resultados, mas não mostraram diferenças significativas, em termos de acurácia geral. A utilização do BatchNormalization apenas acelerou o treinamento para convergir mais rápido, não apresentando aumento ou decremento na acurária.<p>\n",
    "<p> Para a validação final dos modelos, por conta dos melhores resultados apresentados, escolhemos avaliar dois modelos: um com que os histogramas do RGB + os 100 primeiros valores do histograma da matriz do HSV; e o outro que utiliza somente os 100 primeiros valores do histograma da matriz do HSV. A arquitetura dos dois casos foi escolhida com base nos melhores resultados, as variações eram quase insignificantes, mas precisávamos de um critério para a escolha dos mesmos. As arquiteruras escolhidas foram: 2 camadas ocultas densas com 1 de BatchNormalization para o primeiro caso; e 1 camada oculta densa com 1 de BatchNormalization para o segundo caso.</p>"
   ]
  }
 ],
 "metadata": {
  "kernelspec": {
   "display_name": "Python 3",
   "language": "python",
   "name": "python3"
  },
  "language_info": {
   "codemirror_mode": {
    "name": "ipython",
    "version": 3
   },
   "file_extension": ".py",
   "mimetype": "text/x-python",
   "name": "python",
   "nbconvert_exporter": "python",
   "pygments_lexer": "ipython3",
   "version": "3.8.8"
  }
 },
 "nbformat": 4,
 "nbformat_minor": 5
}
